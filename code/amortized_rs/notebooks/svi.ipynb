{
 "cells": [
  {
   "cell_type": "code",
   "execution_count": 4,
   "metadata": {},
   "outputs": [],
   "source": [
    "import torch\n",
    "import pyro\n",
    "import pyro.distributions as pdist\n",
    "import torch.distributions as dist\n",
    "\n",
    "pyro.set_rng_seed(101)"
   ]
  },
  {
   "cell_type": "markdown",
   "metadata": {},
   "source": [
    "## Weather example"
   ]
  },
  {
   "cell_type": "code",
   "execution_count": 3,
   "metadata": {},
   "outputs": [],
   "source": [
    "# all written in pytorch - independent of pyro\n",
    "def weather():\n",
    "    cloudy = dist.Bernoulli(0.3).sample()\n",
    "    sky = 'cloudy' if cloudy.item() == 1.0 else 'sunny'\n",
    "    mean_temp = {'cloudy': 55.0, 'sunny':75.0}[sky]\n",
    "    scale_temp = {'cloudy':10.0, 'sunny':15.0}[sky]\n",
    "    temp = dist.Normal(mean_temp, scale_temp).rsample()\n",
    "    return sky, temp.item()\n",
    "\n"
   ]
  },
  {
   "cell_type": "markdown",
   "metadata": {},
   "source": [
    "## pyro primatives"
   ]
  },
  {
   "cell_type": "code",
   "execution_count": 6,
   "metadata": {},
   "outputs": [
    {
     "name": "stdout",
     "output_type": "stream",
     "text": [
      "('cloudy', 35.4540901184082)\n",
      "('sunny', 83.63148498535156)\n",
      "('sunny', 75.91869354248047)\n"
     ]
    }
   ],
   "source": [
    "# telling pyro which things to track - which means this now defines \n",
    "# a joint density p(temp, sky) over tempreture and sky.  \n",
    "def weather():\n",
    "    cloudy = pyro.sample('cloudy', pdist.Bernoulli(0.3))\n",
    "    sky = 'cloudy' if cloudy.item() == 1.0 else 'sunny'\n",
    "    mean_temp = {'cloudy': 55.0, 'sunny':75.0}[sky]\n",
    "    scale_temp = {'cloudy':10.0, 'sunny':15.0}[sky]\n",
    "    temp = dist.Normal(mean_temp, scale_temp).rsample()\n",
    "    return sky, temp.item()\n",
    "\n",
    "for _ in range(3):\n",
    "    print(weather())\n"
   ]
  },
  {
   "cell_type": "markdown",
   "metadata": {},
   "source": [
    "## Higher-order stochastic functions and recursion"
   ]
  },
  {
   "cell_type": "code",
   "execution_count": 19,
   "metadata": {},
   "outputs": [],
   "source": [
    "def ice_cream_sales():\n",
    "    sky, temp = weather()\n",
    "    expected_sales = 200. if sky == 'sunny' and temp > 80.0 else 50.\n",
    "    ice_cream = pyro.sample('ice_cream', pdist.Normal(expected_sales, 10.0))\n",
    "    return ice_cream"
   ]
  },
  {
   "cell_type": "markdown",
   "metadata": {},
   "source": [
    "## tail-recursion "
   ]
  },
  {
   "cell_type": "code",
   "execution_count": 62,
   "metadata": {},
   "outputs": [],
   "source": [
    "def geometric(p, t=None):\n",
    "    if t is None:\n",
    "        t = 0\n",
    "    x = pyro.sample(\"x_{}\".format(t), pdist.Bernoulli(p))\n",
    "    if x.item() == 1:\n",
    "        return 0\n",
    "    else:\n",
    "        return 1 + geometric(p, t + 1)\n"
   ]
  },
  {
   "cell_type": "code",
   "execution_count": 70,
   "metadata": {},
   "outputs": [
    {
     "name": "stdout",
     "output_type": "stream",
     "text": [
      "tensor(8.2429)\n"
     ]
    }
   ],
   "source": [
    "def normal_product(loc, scale):\n",
    "    z1 = pyro.sample(\"z1\", pyro.distributions.Normal(loc, scale))\n",
    "    z2 = pyro.sample(\"z2\", pyro.distributions.Normal(loc, scale))\n",
    "    y = z1 * z2\n",
    "    return y\n",
    "\n",
    "def make_normal_normal():\n",
    "    ''' returns a function '''\n",
    "    mu_latent = pyro.sample(\"mu_latent\", pyro.distributions.Normal(0, 1))\n",
    "    fn = lambda scale: normal_product(mu_latent, scale)\n",
    "    return fn\n",
    "\n",
    "print(make_normal_normal()(2.6))"
   ]
  },
  {
   "cell_type": "markdown",
   "metadata": {},
   "source": [
    "## Inference in pyro"
   ]
  },
  {
   "cell_type": "code",
   "execution_count": 71,
   "metadata": {},
   "outputs": [],
   "source": [
    "import matplotlib.pyplot as plt\n",
    "import numpy as np\n",
    "import pyro.optim as opt\n"
   ]
  },
  {
   "cell_type": "code",
   "execution_count": 80,
   "metadata": {},
   "outputs": [],
   "source": [
    "def scale(guess):\n",
    "    weight_given_guess = pyro.sample('weight', pdist.Normal(guess,1))\n",
    "    measurement_given_guess_and_weight = pyro.sample('measurement', pdist.Normal(weight_given_guess ,0.75))\n",
    "    return measurement_given_guess_and_weight\n"
   ]
  },
  {
   "cell_type": "code",
   "execution_count": 110,
   "metadata": {},
   "outputs": [],
   "source": [
    "# because conditioning behaves like an ordinary python function, \n",
    "# conditioning can be defrred or parameterized with python lambdas or defs\n",
    "def deferred_conditioned_scale(measurement, guess):\n",
    "    conditioned_scale = pyro.condition(scale,data={'measurement': measurement})(guess)\n",
    "    return conditioned_scale\n",
    "\n",
    "# you can pass observations to both sample and conditional statements. \n",
    "\n",
    "def scale_obs(guess, measurement):\n",
    "    ''' equivelent deferred_conditioned_scale()'''\n",
    "    weight_given_guess  = pyro.sample(\"weight\", pdist.Normal(guess,1.))\n",
    "    # now we condition on the measurement == 9.5\n",
    "    return pyro.sample('measurement', pdist.Normal(weight_given_guess ,1),obs= measurement)\n",
    "\n",
    "measurement = 35\n",
    "guess = 3\n",
    "con1 = deferred_conditioned_scale(measurement,guess)\n",
    "con2 = scale_obs(guess,measurement)\n",
    "assert con1 == con2, 'Conditionals are not defined correctly'"
   ]
  },
  {
   "cell_type": "markdown",
   "metadata": {},
   "source": [
    "## Guide functions\n",
    "\n",
    "Guides represent approximate posterior distributions\n",
    "\n",
    "1. all unobserved (i.e., not conditioned) sample statements that appear in the model appear in the guide. \"Raw samples\"\n",
    "2. the guide has the same input signature as the model (i.e., takes the same arguments)"
   ]
  },
  {
   "cell_type": "code",
   "execution_count": 120,
   "metadata": {},
   "outputs": [],
   "source": [
    "# For the above problem we can analytically calculate the posterior as we have conjugate priors\n",
    "\n",
    "def perfect_guide(guess):\n",
    "    loc =(0.75**2 * guess + 9.5) / (1 + 0.75**2) # 9.14\n",
    "    scale = np.sqrt(0.75**2/(1 + 0.75**2)) # 0.6\n",
    "    return pyro.sample(\"weight\", dist.Normal(loc, scale))\n",
    "\n",
    "# pyro.param is pyros library for storing the guide parameters. The optimizations should happen over those parameters. \n",
    "\n",
    "\n",
    "def scale_parametrized_guide(guess):\n",
    "    a = pyro.param(\"a\", torch.tensor(guess))\n",
    "    b = pyro.param(\"b\", torch.tensor(1.))\n",
    "    return pyro.sample(\"weight\", pdist.Normal(a, torch.abs(b))) # as the stanard deviation must be positive ( in the case it alway will)\n",
    "\n",
    "# we can re-write this using the built in constraints of the pytorch library. \n",
    "\n",
    "from torch.distributions import constraints\n",
    "def scale_parametrized_guide_constrained(guess):\n",
    "    a = pyro.param(\"a\", torch.tensor(guess))\n",
    "    b = pyro.param(\"b\", torch.tensor(1.), constraint=constraints.positive)\n",
    "    return pyro.sample(\"weight\", pdist.Normal(a, b))\n",
    "\n"
   ]
  },
  {
   "cell_type": "markdown",
   "metadata": {},
   "source": [
    "### Using SVI to perform parameter estimation in the guide program\n"
   ]
  },
  {
   "cell_type": "code",
   "execution_count": 121,
   "metadata": {},
   "outputs": [
    {
     "name": "stdout",
     "output_type": "stream",
     "text": [
      "a = 9.139286041259766\n",
      "b = 0.5956957936286926\n"
     ]
    },
    {
     "data": {
      "image/png": "[encoded data removed]",
      "text/plain": [
       "<Figure size 432x288 with 1 Axes>"
      ]
     },
     "metadata": {
      "needs_background": "light"
     },
     "output_type": "display_data"
    }
   ],
   "source": [
    "guess = 8.5\n",
    "\n",
    "pyro.clear_param_store()\n",
    "svi = pyro.infer.SVI(model =conditioned_scale,\n",
    "                    guide = scale_parametrized_guide_constrained,\n",
    "                    optim = opt.SGD({'lr':0.001,'momentum':0.1}),\n",
    "                    loss =pyro.infer.Trace_ELBO())\n",
    "\n",
    "losses, a, b = [], [] , []\n",
    "num_steps = 2500\n",
    "for t in range(num_steps):\n",
    "    losses.append(svi.step(guess))\n",
    "    a.append(pyro.param('a').item())\n",
    "    b.append(pyro.param('b').item())\n",
    "\n",
    "plt.plot(losses)\n",
    "plt.title('ELBO')\n",
    "plt.xlabel('step')\n",
    "plt.ylabel('loss')\n",
    "print('a = {}'.format(pyro.param('a').item()))\n",
    "print('b = {}'.format(pyro.param('b').item()))"
   ]
  },
  {
   "cell_type": "code",
   "execution_count": 125,
   "metadata": {},
   "outputs": [
    {
     "data": {
      "image/png": "[encoded data removed]",
      "text/plain": [
       "<Figure size 432x288 with 2 Axes>"
      ]
     },
     "metadata": {
      "needs_background": "light"
     },
     "output_type": "display_data"
    }
   ],
   "source": [
    "plt.subplot(1,2,1)\n",
    "plt.plot([0,num_steps],[9.14,9.14], 'k:')\n",
    "plt.plot(a)\n",
    "plt.ylabel('a')\n",
    "\n",
    "plt.subplot(1,2,2)\n",
    "plt.ylabel('b')\n",
    "plt.plot([0,num_steps],[0.6,0.6], 'k:')\n",
    "plt.plot(b)\n",
    "plt.tight_layout()"
   ]
  },
  {
   "cell_type": "markdown",
   "metadata": {},
   "source": [
    "# Stochastic Variational Inference \n",
    "\n",
    "In pyro the guide directly specifies the variational approximation. In all our experiments so far we had been using the Normal distribution and treating the mean and variance as unknown parameters to be learnt by the network. \n",
    "\n",
    "**Note**: The *guide* needs to provide a valid joint probability density over all the latent random variables in the model. \n",
    "\n",
    "That is for each latent that appears in the model, as a prior, it must also appear in the guide as a prior. \n",
    "\n",
    "```python\n",
    "def model():    \n",
    "    z1 = pyro.sample('z1', pdist.Normal(0,1))\n",
    "\n",
    "def guide():\n",
    "    z1 = pyro.sample('z1', ...) # the distribution here can be different to the model\n",
    "    \n",
    "```"
   ]
  },
  {
   "cell_type": "markdown",
   "metadata": {},
   "source": [
    "## Defining the Objective\n",
    "\n",
    "Typically we use the ELBO, which is dependent upon the KL-divergence. Different objectives do exist, see (Structured Disentangled Representations)[https://arxiv.org/pdf/1804.02086.pdf] for different objectives using KL. "
   ]
  },
  {
   "cell_type": "markdown",
   "metadata": {},
   "source": [
    "### Problem set-up\n",
    "\n",
    "The user has to provide the following:\n",
    "1. the model\n",
    "2. the guide\n",
    "3. an optimizer\n",
    "\n",
    "When defining the optimizer, it must be ensured that the guide program does not contain any sample statements with observations. Not entirely sure that this means that you can't use condition statements. I should suspect that you still can, else you would not be able to do any form of conditional density estimation. \n",
    "\n",
    "\n",
    "### A simple example"
   ]
  },
  {
   "cell_type": "code",
   "execution_count": null,
   "metadata": {},
   "outputs": [
    {
     "name": "stdout",
     "output_type": "stream",
     "text": [
      "......................................."
     ]
    }
   ],
   "source": [
    "from pyro.infer import SVI, Trace_ELBO\n",
    "import math\n",
    "import os\n",
    "pyro.enable_validation(True)\n",
    "\n",
    "pyro.clear_param_store()\n",
    "\n",
    "# Generate data\n",
    "nHeads = 6\n",
    "nTails = 4\n",
    "data = []\n",
    "for _ in range(nHeads):\n",
    "    data.append(torch.tensor(1.0))\n",
    "for _ in range(nTails):\n",
    "    data.append(torch.tensor(0.0))\n",
    "\n",
    "# Define program\n",
    "\n",
    "def model(data):\n",
    "    # define the hyperparameters that control the beta rior\n",
    "    alpha0 = torch.tensor(10.0)\n",
    "    beta0 = torch.tensor(10.0)\n",
    "    flip = pyro.sample('biasness', pdist.Beta(alpha0,beta0))\n",
    "   \n",
    "    # loop over observed data\n",
    "    for i in range(len(data)):\n",
    "        pyro.sample('obs_{}'.format(i), pdist.Bernoulli(flip), obs=data[i])\n",
    "\n",
    "def guide(data):\n",
    "    # register the two variational parameters with pyro\n",
    "    alpha_q = pyro.param('alpha_q', torch.tensor(15.0),\n",
    "                         constraint= constraints.positive)\n",
    "    beta_q= pyro.param('beta_q',\n",
    "                       torch.tensor(15.0), constraint= constraints.positive)\n",
    "    \n",
    "    pyro.sample('biasness', pdist.Beta(alpha_q, beta_q))\n",
    "\n",
    "# Inference\n",
    "\n",
    "lr = 0.0005\n",
    "betas = (0.9,0.999)\n",
    "def inference(lr, betas):\n",
    "    adam_params = {'lr':lr, 'betas': betas}\n",
    "    optimizer = opt.Adam(adam_params)\n",
    "\n",
    "    svi = SVI(model=model, guide=guide, optim=optimizer, loss=Trace_ELBO() )\n",
    "\n",
    "    nSteps = 5000\n",
    "\n",
    "    for step in range(nSteps):\n",
    "        svi.step(data)\n",
    "        if step % 100 == 0:\n",
    "            print('.', end='')\n",
    "    return svi\n",
    "\n",
    "# Inference results\n",
    "\n",
    "svi = inference(lr,betas)\n",
    "\n",
    "## learnt variational parameters\n",
    "alpha_q = pyro.param('alpha_q').item()\n",
    "beta_q = pyro.param('beta_q').item()\n",
    "\n",
    "print('The learnt variational parameters are : alpha_q : {} and beta_q : {}'.format(alpha_q, beta_q))\n",
    "## inferred quantities\n",
    "inferred_mean = alpha_q / (alpha_q + beta_q) \n",
    "inferred_std= math.sqrt(alpha_q*beta_q / ((alpha_q + beta_q)**2 * (alpha_q + beta_q + 1)))\n",
    "\n",
    "\n",
    "\n",
    "print(\"\\n based on the data and our prior belief, the fairness of the coin is {} +- {}\".format(inferred_mean, inferred_std))"
   ]
  },
  {
   "cell_type": "code",
   "execution_count": null,
   "metadata": {},
   "outputs": [],
   "source": []
  }
 ],
 "metadata": {
  "kernelspec": {
   "display_name": "Python 3",
   "language": "python",
   "name": "python3"
  },
  "language_info": {
   "codemirror_mode": {
    "name": "ipython",
    "version": 3
   },
   "file_extension": ".py",
   "mimetype": "text/x-python",
   "name": "python",
   "nbconvert_exporter": "python",
   "pygments_lexer": "ipython3",
   "version": "3.7.4"
  }
 },
 "nbformat": 4,
 "nbformat_minor": 2
}
