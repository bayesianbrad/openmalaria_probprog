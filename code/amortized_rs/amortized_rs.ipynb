{
 "cells": [
  {
   "cell_type": "code",
   "execution_count": 14,
   "metadata": {},
   "outputs": [],
   "source": [
    "import torch\n",
    "import numpy as np\n",
    "from torch.distributions import Normal, Uniform\n",
    "import sys\n",
    "import math\n",
    "import multiprocessing as mp\n",
    "from joblib import Parallel, delayed\n",
    "import time"
   ]
  },
  {
   "cell_type": "code",
   "execution_count": 25,
   "metadata": {},
   "outputs": [],
   "source": [
    "def f():\n",
    "    z1 = Normal(0,1).sample()\n",
    "    z2 = R1(z1)\n",
    "    # the following is used to avoid tail recursion  - simple solution and stops stack overflow \n",
    "    # You can not use this trick straight forwardly if you wish to access multiple core / threads. \n",
    "    while z2 == math.inf:\n",
    "#         print(' while loop triggered')\n",
    "        z2 = R1(z1)\n",
    "    z3 = Uniform(0,2).sample()\n",
    "    z4 = R2(z2,z3)\n",
    "    return torch.tensor([z1,z2,z3,z4])\n",
    "\n",
    "def R1(z1, i=0):\n",
    "    temp = Normal(z1,1).sample()\n",
    "    if temp.data > 0:\n",
    "        return temp\n",
    "    elif i == 1000:\n",
    "        return math.inf\n",
    "    else:\n",
    "        i = i+1\n",
    "        return R1(z1,i)\n",
    "\n",
    "def R2(z2,z3):\n",
    "    ''' Need to ensure that we don't return a \n",
    "    value generated from a deterministic process, i.e if return temp=0, that\n",
    "    has not been generated from the while loop - although with R1 defined as it is \n",
    "    this will never be the case'''\n",
    "    temp = 0\n",
    "    while temp < z2:\n",
    "        temp = Normal(z3,1).sample()\n",
    "    return temp\n",
    "\n",
    "\n",
    "\n",
    "# # could write as list comprehension\n",
    "# num_cores = mp.cpu_count()\n",
    "\n",
    "# results = Parallel(n_jobs=num_cores)(delayed(f)() for i in range(n_samples))\n",
    "# print(results)\n"
   ]
  },
  {
   "cell_type": "code",
   "execution_count": null,
   "metadata": {
    "scrolled": true
   },
   "outputs": [
    {
     "name": "stdout",
     "output_type": "stream",
     "text": [
      "0 samples\n",
      "5000 samples\n",
      "10000 samples\n",
      "15000 samples\n",
      "20000 samples\n",
      "25000 samples\n",
      "30000 samples\n"
     ]
    }
   ],
   "source": [
    "n_samples = 100000\n",
    "samples_1 = torch.zeros(n_samples,4)\n",
    "samples_2 = torch.zeros(n_samples,4)\n",
    "samples_3 =torch.zeros(n_samples,4)\n",
    "samples_4 = torch.zeros(n_samples,4)\n",
    "samples_5 = torch.zeros(n_samples,4)\n",
    "samples_6 = torch.zeros(n_samples,4)\n",
    "samples_7 = torch.zeros(n_samples,4)\n",
    "samples_8 = torch.zeros(n_samples,4)\n",
    "samples_9 = torch.zeros(n_samples,4)\n",
    "samples_10 = torch.zeros(n_samples,4)\n",
    "\n",
    "# # could write as list comprehension\n",
    "# num_cores = mp.cpu_count()\n",
    "\n",
    "# results = Parallel(n_jobs=num_cores)(delayed(f)() for i in range(n_samples))\n",
    "# print(results)\n",
    "# index = [i for i in range(1,11)]\n",
    "start = time.time()\n",
    "for i in range(n_samples):\n",
    "    if i % 5000 == 0:\n",
    "        print('{} samples'.format(i))\n",
    "        if i == 0:\n",
    "            continue\n",
    "        else:\n",
    "            torch.save(samples_1, 'samples_1_{}.pt'.format(i))\n",
    "            torch.save(samples_2, 'samples_2_{}.pt'.format(i))\n",
    "            torch.save(samples_3, 'samples_3_{}.pt'.format(i))\n",
    "            torch.save(samples_4, 'samples_4_{}.pt'.format(i))\n",
    "            torch.save(samples_5,'samples_5_{}.pt'.format(i))\n",
    "            torch.save(samples_6, 'samples_6_{}.pt'.format(i))\n",
    "            torch.save(samples_7, 'samples_7_{}.pt'.format(i))\n",
    "            torch.save(samples_8, 'samples_8_{}.pt'.format(i))\n",
    "            torch.save(samples_9, 'samples_9_{}.pt'.format(i))\n",
    "            torch.save(samples_10,'samples_10_{}.pt'.format(i))\n",
    "            \n",
    "    samples_1[i,:] = f()\n",
    "    samples_2[i,:] = f()\n",
    "    samples_3[i,:] = f()\n",
    "    samples_4[i,:] = f()\n",
    "    samples_5[i,:] = f()\n",
    "    samples_6[i,:] = f()\n",
    "    samples_7[i,:] = f()\n",
    "    samples_8[i,:] = f()\n",
    "    samples_9[i,:] = f()\n",
    "    samples_10[i,:] = f()\n",
    "\n",
    "end = time.time()\n",
    "total_time = end - start\n",
    "print(' Time taken is {} for {} samples'.format(total_time, n_samples))\n",
    "\n"
   ]
  },
  {
   "cell_type": "code",
   "execution_count": 9,
   "metadata": {},
   "outputs": [
    {
     "data": {
      "text/plain": [
       "66.21666666666667"
      ]
     },
     "execution_count": 9,
     "metadata": {},
     "output_type": "execute_result"
    }
   ],
   "source": [
    "#### Spare code for tail optimization - if requried ####\n",
    "# # problem with tail recursion as the function continuies to evaluate R1 beyond\n",
    "# # the allowed recursion depth. To mitigate this we must add some additional decorators to deal with this\n",
    "# # and hack the python internals. Else, use functional programming. \n",
    "# class TailRecurseException:\n",
    "#   def __init__(self, args, kwargs):\n",
    "#     self.args = args\n",
    "#     self.kwargs = kwargs\n",
    "\n",
    "# def tail_call_optimized(g):\n",
    "#   \"\"\"\n",
    "#   This function decorates a function with tail call\n",
    "#   optimization. It does this by throwing an exception\n",
    "#   if it is it's own grandparent, and catching such\n",
    "#   exceptions to fake the tail call optimization.\n",
    "  \n",
    "#   This function fails if the decorated\n",
    "#   function recurses in a non-tail context.\n",
    "#   \"\"\"\n",
    "#   def func(*args, **kwargs):\n",
    "#     f = sys._getframe()\n",
    "#     if f.f_back and f.f_back.f_back \\\n",
    "#         and f.f_back.f_back.f_code == f.f_code:\n",
    "#       raise TailRecurseException(args, kwargs)\n",
    "#     else:\n",
    "#       while 1:\n",
    "#         try:\n",
    "#           return g(*args, **kwargs)\n",
    "#         except TailRecurseException, e:\n",
    "#           args = e.args\n",
    "#           kwargs = e.kwargs\n",
    "#   func.__doc__ = g.__doc__\n",
    "#   return func\n",
    "\n",
    "\n",
    "# @tail_call_optimized\n"
   ]
  },
  {
   "cell_type": "code",
   "execution_count": 23,
   "metadata": {},
   "outputs": [
    {
     "name": "stdout",
     "output_type": "stream",
     "text": [
      "tensor([[0.0000, 0.0000, 0.0000, 0.0000],\n",
      "        [0.8754, 1.8726, 0.7284, 2.4367],\n",
      "        [0.0000, 0.0000, 0.0000, 0.0000],\n",
      "        ...,\n",
      "        [0.0000, 0.0000, 0.0000, 0.0000],\n",
      "        [0.0000, 0.0000, 0.0000, 0.0000],\n",
      "        [0.0000, 0.0000, 0.0000, 0.0000]])\n"
     ]
    }
   ],
   "source": [
    "z1,z2,z3,z4 = f()\n",
    "samples_1[1,:] = torch.tensor([z1,z2,z3,z4])\n",
    "print(samples_1)"
   ]
  },
  {
   "cell_type": "markdown",
   "metadata": {},
   "source": [
    "#### Save samples"
   ]
  },
  {
   "cell_type": "code",
   "execution_count": 6,
   "metadata": {},
   "outputs": [
    {
     "name": "stdout",
     "output_type": "stream",
     "text": [
      "[1, 2, 3, 4, 5, 6, 7, 8, 9, 10]\n"
     ]
    }
   ],
   "source": [
    "torch.save(samples_1, 'samples_r1.pt')\n",
    "torch.save(samples_2, 'samples_r2.pt')\n"
   ]
  },
  {
   "cell_type": "markdown",
   "metadata": {},
   "source": [
    "### Plot the rejection sampling samples"
   ]
  },
  {
   "cell_type": "code",
   "execution_count": null,
   "metadata": {},
   "outputs": [],
   "source": [
    "import matplotlib.pyplot as plt\n",
    "import seaborn as sns\n",
    "\n",
    "samples_1np = samples_1.data.numpy()\n",
    "samples_2np = samples_2.data.numpy()"
   ]
  },
  {
   "cell_type": "markdown",
   "metadata": {},
   "source": [
    "#### Plots of the histograms and a density estimate of the density.  "
   ]
  },
  {
   "cell_type": "code",
   "execution_count": 20,
   "metadata": {},
   "outputs": [
    {
     "name": "stderr",
     "output_type": "stream",
     "text": [
      "/Users/bradley/miniconda3/envs/pysppl/lib/python3.6/site-packages/scipy/stats/stats.py:1713: FutureWarning: Using a non-tuple sequence for multidimensional indexing is deprecated; use `arr[tuple(seq)]` instead of `arr[seq]`. In the future this will be interpreted as an array index, `arr[np.array(seq)]`, which will result either in an error or a different result.\n",
      "  return np.add.reduce(sorted[indexer] * weights, axis=axis) / sumval\n"
     ]
    },
    {
     "data": {
      "text/plain": [
       "<matplotlib.axes._subplots.AxesSubplot at 0x12c97fcc0>"
      ]
     },
     "execution_count": 20,
     "metadata": {},
     "output_type": "execute_result"
    },
    {
     "data": {
      "image/png": "[encoded data removed]",
      "text/plain": [
       "<Figure size 432x288 with 1 Axes>"
      ]
     },
     "metadata": {
      "needs_background": "light"
     },
     "output_type": "display_data"
    }
   ],
   "source": [
    "sns.distplot(samples_1np)\n",
    "sns.distplot(samples_2np)"
   ]
  }
 ],
 "metadata": {
  "kernelspec": {
   "display_name": "Python 3",
   "language": "python",
   "name": "python3"
  }
 },
 "nbformat": 4,
 "nbformat_minor": 2
}
