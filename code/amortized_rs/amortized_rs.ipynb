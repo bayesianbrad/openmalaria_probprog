{
 "cells": [
  {
   "cell_type": "code",
   "execution_count": 4,
   "metadata": {},
   "outputs": [],
   "source": [
    "import torch\n",
    "import numpy as np\n",
    "from torch.distributions import Normal, Uniform\n",
    "import sys"
   ]
  },
  {
   "cell_type": "code",
   "execution_count": 13,
   "metadata": {},
   "outputs": [
    {
     "ename": "SyntaxError",
     "evalue": "invalid syntax (<ipython-input-13-7b5284b49774>, line 32)",
     "output_type": "error",
     "traceback": [
      "\u001b[0;36m  File \u001b[0;32m\"<ipython-input-13-7b5284b49774>\"\u001b[0;36m, line \u001b[0;32m32\u001b[0m\n\u001b[0;31m    except TailRecurseException, e:\u001b[0m\n\u001b[0m                               ^\u001b[0m\n\u001b[0;31mSyntaxError\u001b[0m\u001b[0;31m:\u001b[0m invalid syntax\n"
     ]
    }
   ],
   "source": [
    "def f():\n",
    "    z1 = Normal(0,1).sample()\n",
    "    z2 = R1(z1)\n",
    "    z3 = Uniform(0,2).sample()\n",
    "    z4 = R2(z2,z3)\n",
    "    return z1,z2,z3,z4\n",
    "\n",
    "# problem with tail recursion as the function continuies to evaluate R1 beyond\n",
    "# the allowed recursion depth. To mitigate this we must add some additional decorators to deal with this\n",
    "# and hack the python internals. Else, use functional programming. \n",
    "class TailRecurseException:\n",
    "  def __init__(self, args, kwargs):\n",
    "    self.args = args\n",
    "    self.kwargs = kwargs\n",
    "\n",
    "def tail_call_optimized(g):\n",
    "  \"\"\"\n",
    "  This function decorates a function with tail call\n",
    "  optimization. It does this by throwing an exception\n",
    "  if it is it's own grandparent, and catching such\n",
    "  exceptions to fake the tail call optimization.\n",
    "  \n",
    "  This function fails if the decorated\n",
    "  function recurses in a non-tail context.\n",
    "  \"\"\"\n",
    "  def func(*args, **kwargs):\n",
    "    f = sys._getframe()\n",
    "    if f.f_back and f.f_back.f_back \\\n",
    "        and f.f_back.f_back.f_code == f.f_code:\n",
    "      raise TailRecurseException(args, kwargs)\n",
    "    else:\n",
    "      while 1:\n",
    "        try:\n",
    "          return g(*args, **kwargs)\n",
    "        except TailRecurseException, e:\n",
    "          args = e.args\n",
    "          kwargs = e.kwargs\n",
    "  func.__doc__ = g.__doc__\n",
    "  return func\n",
    "\n",
    "\n",
    "@tail_call_optimized\n",
    "def R1(z1):\n",
    "    temp = Normal(z1,1).sample()\n",
    "    if temp.data > 0:\n",
    "        return temp\n",
    "    else:\n",
    "        return R1(z1)\n",
    "\n",
    "def R2(z2,z3):\n",
    "    ''' Need to ensure that we don't return a \n",
    "    value generated from a deterministic process, i.e if return temp=0, that\n",
    "    has not been generated from the while loop - although with R1 defined as it is \n",
    "    this will never be the case'''\n",
    "    temp = 0\n",
    "    while temp < z2:\n",
    "        temp = Normal(z3,1).sample()\n",
    "    return temp\n",
    "\n",
    "n_samples = 10\n",
    "samples_1 = torch.zeros(n_samples,1)\n",
    "samples_2 = torch.zeros(n_samples,1)\n",
    "\n",
    "for i in range(n_samples):\n",
    "    z1,z2,z3,z4 = f()\n",
    "    samples_1[i] = z2\n",
    "    samples_2[i] = z4\n",
    "    \n",
    "print(samples_1)\n",
    "print(samples_2)"
   ]
  },
  {
   "cell_type": "code",
   "execution_count": 11,
   "metadata": {},
   "outputs": [
    {
     "data": {
      "text/plain": [
       "3000"
      ]
     },
     "execution_count": 11,
     "metadata": {},
     "output_type": "execute_result"
    }
   ],
   "source": [
    "sys.getrecursionlimit()"
   ]
  },
  {
   "cell_type": "code",
   "execution_count": null,
   "metadata": {},
   "outputs": [],
   "source": []
  }
 ],
 "metadata": {
  "kernelspec": {
   "display_name": "Python 3",
   "language": "python",
   "name": "python3"
  },
  "language_info": {
   "codemirror_mode": {
    "name": "ipython",
    "version": 3
   },
   "file_extension": ".py",
   "mimetype": "text/x-python",
   "name": "python",
   "nbconvert_exporter": "python",
   "pygments_lexer": "ipython3",
   "version": "3.7.3"
  }
 },
 "nbformat": 4,
 "nbformat_minor": 2
}
