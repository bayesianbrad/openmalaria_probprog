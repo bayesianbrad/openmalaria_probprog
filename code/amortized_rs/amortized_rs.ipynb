{
 "cells": [
  {
   "cell_type": "code",
   "execution_count": 2,
   "metadata": {},
   "outputs": [],
   "source": [
    "import torch\n",
    "import numpy as np\n",
    "from torch.distributions import Normal, Uniform"
   ]
  },
  {
   "cell_type": "code",
   "execution_count": 16,
   "metadata": {},
   "outputs": [
    {
     "name": "stdout",
     "output_type": "stream",
     "text": [
      " z1: -0.1085701435804367 z2: 0.17963184416294098 z3: 0.4848148822784424 z4 0.6381518840789795\n",
      " z1: 0.08453148603439331 z2: 1.1249885559082031 z3: 0.012175321578979492 z4 1.148515224456787\n",
      " z1: -0.01731840707361698 z2: 0.6953253149986267 z3: 0.718080997467041 z4 0.7600252032279968\n",
      " z1: -1.4087342023849487 z2: 0.5128523111343384 z3: 1.7971328496932983 z4 1.552625298500061\n",
      " z1: -0.6001539826393127 z2: 0.7645339369773865 z3: 0.13065648078918457 z4 1.339378833770752\n",
      " z1: -1.0712335109710693 z2: 1.42327880859375 z3: 0.1940445899963379 z4 1.6951700448989868\n",
      " z1: 0.6780738234519958 z2: 0.9596941471099854 z3: 1.8248322010040283 z4 1.7934397459030151\n",
      " z1: -0.798355221748352 z2: 0.42393624782562256 z3: 0.7541564702987671 z4 1.9774221181869507\n",
      " z1: -1.2145987749099731 z2: 0.2498563528060913 z3: 0.938176155090332 z4 0.9845408797264099\n",
      " z1: -1.036002516746521 z2: 0.12026703357696533 z3: 1.7218236923217773 z4 1.5394736528396606\n"
     ]
    }
   ],
   "source": [
    "def f():\n",
    "    z1 = Normal(0,1).sample()\n",
    "    z2 = R1(z1)\n",
    "    z3 = Uniform(0,2).sample()\n",
    "    z4 = R2(z2,z3)\n",
    "    return z1,z2,z3,z4\n",
    "\n",
    "def R1(z1):\n",
    "    temp = Normal(z1,1).sample()\n",
    "    if temp.data > 0:\n",
    "        return temp\n",
    "    else:\n",
    "        return R1(z1)\n",
    "\n",
    "def R2(z2,z3):\n",
    "    ''' Need to ensure that we don't return a \n",
    "    value generated from a deterministic process, i.e if return temp=0, that\n",
    "    has not been generated from the while loop'''\n",
    "    temp = 0\n",
    "    while temp < z2:\n",
    "        temp = Normal(z3,1).sample()\n",
    "    return temp\n",
    "\n",
    "for i in range(10):\n",
    "    z1,z2,z3,z4 = f()\n",
    "    print(' z1: {} z2: {} z3: {} z4 {}'.format(z1,z2,z3,z4))"
   ]
  },
  {
   "cell_type": "code",
   "execution_count": null,
   "metadata": {},
   "outputs": [],
   "source": []
  },
  {
   "cell_type": "code",
   "execution_count": null,
   "metadata": {},
   "outputs": [],
   "source": []
  }
 ],
 "metadata": {
  "kernelspec": {
   "display_name": "Python 3",
   "language": "python",
   "name": "python3"
  },
  "language_info": {
   "codemirror_mode": {
    "name": "ipython",
    "version": 3
   },
   "file_extension": ".py",
   "mimetype": "text/x-python",
   "name": "python",
   "nbconvert_exporter": "python",
   "pygments_lexer": "ipython3",
   "version": "3.7.3"
  }
 },
 "nbformat": 4,
 "nbformat_minor": 2
}
