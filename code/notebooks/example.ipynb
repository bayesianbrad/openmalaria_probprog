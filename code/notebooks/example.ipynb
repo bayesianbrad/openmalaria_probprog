{
 "cells": [
  {
   "cell_type": "code",
   "execution_count": 1,
   "metadata": {},
   "outputs": [],
   "source": [
    "import pyprob\n",
    "from pyprob.distributions import Normal\n",
    "import pyprob.diagnostics\n",
    "import torch\n",
    "import pandas\n",
    "\n",
    "def parse_n_infect_from_output(file_name='/home/examples/output.txt'):\n",
    "    data = pandas.read_csv(file_name, sep='\\t', names = [\"survey_number\", \"third_dimension\", \"measure\", \"value\"])\n",
    "    n_infect = torch.from_numpy(data['value'][:12].values)\n",
    "    return n_infect\n",
    "\n",
    "def forward_after():\n",
    "    n_infect = parse_n_infect_from_output()\n",
    "    likelihood = Normal(n_infect, 0.01)\n",
    "    pyprob.observe(likelihood, name='n_infect')\n",
    "    \n",
    "model = pyprob.RemoteModel('ipc://@openmalaria_probprog', forward_after_func=forward_after)"
   ]
  },
  {
   "cell_type": "code",
   "execution_count": null,
   "metadata": {},
   "outputs": [
    {
     "name": "stdout",
     "output_type": "stream",
     "text": [
      "Time spent  | Time remain.| Progress             | Trace | Traces/sec\n",
      "ppx (Python): zmq.REQ socket connecting to server ipc://@openmalaria_probprog\n",
      "ppx (Python): This system        : \u001b[32mpyprob 0.13.2.dev10\u001b[0m\n",
      "ppx (Python): Connected to system: \u001b[32mpyprob_cpp 0.1.9 (master:16d27c2)\u001b[0m\n",
      "ppx (Python): Model name         : \u001b[1m\u001b[32mOpenMalaria probprog\u001b[0m\n"
     ]
    }
   ],
   "source": [
    "prior = model.prior_traces(num_traces=1)"
   ]
  },
  {
   "cell_type": "code",
   "execution_count": 30,
   "metadata": {},
   "outputs": [
    {
     "name": "stdout",
     "output_type": "stream",
     "text": [
      " Address 1 : [forward()+0x204; OM::Simulator::start(scnXml::Monitoring const&)+0x28a; OM::Population::createInitialHumans()+0x94; OM::Population::newHuman(OM::SimTime)+0x5c; OM::Host::Human::Human(OM::SimTime)+0x12b; OM::WithinHost::WHInterface::createWithinHostModel(double)+0x99; OM::WithinHost::DescriptiveWithinHostModel::DescriptiveWithinHostModel(double)+0x3a; OM::WithinHost::WHFalciparum::WHFalciparum(double)+0xe6; OM::util::random::gauss(double, double)+0xb4]__Normal \n",
      " Value : Variable(name:None, control:True, replace:False, observable:False, observed:False, tagged:False, address:[forward()+0x204; OM::Simulator::start(scnXml::Monitoring const&)+0x28a; OM::Population::createInitialHumans()+0x94; OM::Population::newHuman(OM::SimTime)+0x5c; OM::Host::Human::Human(OM::SimTime)+0x12b; OM::WithinHost::WHInterface::createWithinHostModel(double)+0x99; OM::WithinHost::DescriptiveWithinHostModel::DescriptiveWithinHostModel(double)+0x3a; OM::WithinHost::WHFalciparum::WHFalciparum(double)+0xe6; OM::util::random::gauss(double, double)+0xb4]__Normal__100, distribution:Normal(mean:tensor([0.]), stddev:tensor([3.1896])), value:tensor([3.1799]): log_prob:tensor(-2.5758)) \n",
      "\n",
      "\n",
      " Address 2 : [forward()+0x204; OM::Simulator::start(scnXml::Monitoring const&)+0x468; OM::Population::update1(OM::SimTime)+0x1e9; OM::Population::newHuman(OM::SimTime)+0x5c; OM::Host::Human::Human(OM::SimTime)+0x12b; OM::WithinHost::WHInterface::createWithinHostModel(double)+0x99; OM::WithinHost::DescriptiveWithinHostModel::DescriptiveWithinHostModel(double)+0x3a; OM::WithinHost::WHFalciparum::WHFalciparum(double)+0xe6; OM::util::random::gauss(double, double)+0xb4]__Normal \n",
      " Value : Variable(name:None, control:True, replace:False, observable:False, observed:False, tagged:False, address:[forward()+0x204; OM::Simulator::start(scnXml::Monitoring const&)+0x468; OM::Population::update1(OM::SimTime)+0x1e9; OM::Population::newHuman(OM::SimTime)+0x5c; OM::Host::Human::Human(OM::SimTime)+0x12b; OM::WithinHost::WHInterface::createWithinHostModel(double)+0x99; OM::WithinHost::DescriptiveWithinHostModel::DescriptiveWithinHostModel(double)+0x3a; OM::WithinHost::WHFalciparum::WHFalciparum(double)+0xe6; OM::util::random::gauss(double, double)+0xb4]__Normal__2057, distribution:Normal(mean:tensor([0.]), stddev:tensor([3.1896])), value:tensor([-4.3557]): log_prob:tensor(-3.0113)) \n",
      "\n",
      "\n",
      " Address 3 : [forward()+0x204; OM::Simulator::start(scnXml::Monitoring const&)+0x468; OM::Population::update1(OM::SimTime)+0xff; OM::Host::Human::update(bool)+0x22c; OM::Host::InfectionIncidenceModel::numNewInfections(OM::Host::Human const&, double)+0x2a3; OM::util::random::poisson(double)+0x13f]__Poisson \n",
      " Value : Variable(name:None, control:True, replace:False, observable:False, observed:False, tagged:False, address:[forward()+0x204; OM::Simulator::start(scnXml::Monitoring const&)+0x468; OM::Population::update1(OM::SimTime)+0xff; OM::Host::Human::update(bool)+0x22c; OM::Host::InfectionIncidenceModel::numNewInfections(OM::Host::Human const&, double)+0x2a3; OM::util::random::poisson(double)+0x13f]__Poisson__568199, distribution:Poisson(rate: tensor([0.0039])), value:tensor([0.]): log_prob:tensor(-0.0039)) \n",
      "\n",
      "\n",
      " Address 4 : [forward()+0x204; OM::Simulator::start(scnXml::Monitoring const&)+0x468; OM::Population::update1(OM::SimTime)+0xff; OM::Host::Human::update(bool)+0x2bc; OM::Clinical::ClinicalModel::update(OM::Host::Human&, double, bool)+0x96; OM::Host::NeonatalMortality::eventNeonatalMortality()+0x9; OM::util::random::uniform_01()+0xc0]__Uniform \n",
      " Value : Variable(name:None, control:True, replace:False, observable:False, observed:False, tagged:False, address:[forward()+0x204; OM::Simulator::start(scnXml::Monitoring const&)+0x468; OM::Population::update1(OM::SimTime)+0xff; OM::Host::Human::update(bool)+0x2bc; OM::Clinical::ClinicalModel::update(OM::Host::Human&, double, bool)+0x96; OM::Host::NeonatalMortality::eventNeonatalMortality()+0x9; OM::util::random::uniform_01()+0xc0]__Uniform__2057, distribution:Uniform(lwo: tensor([0.]), high: tensor([1.])), value:tensor([0.3001]): log_prob:tensor(0.)) \n",
      "\n",
      "\n",
      " Address 5 : [forward()+0x204; OM::Simulator::start(scnXml::Monitoring const&)+0x468; OM::Population::update1(OM::SimTime)+0xff; OM::Host::Human::update(bool)+0x2bc; OM::Clinical::ClinicalModel::update(OM::Host::Human&, double, bool)+0xe8; OM::Clinical::CM5DayCommon::doClinicalUpdate(OM::Host::Human&, double)+0x67; OM::WithinHost::WHFalciparum::determineMorbidity(OM::Host::Human&, double, bool)+0x73; OM::WithinHost::Pathogenesis::PathogenesisModel::determineState(OM::Host::Human&, double, double, double, bool)+0x87; OM::util::random::bernoulli(double)+0x47; OM::util::random::uniform_01()+0xc0]__Uniform \n",
      " Value : Variable(name:None, control:True, replace:False, observable:False, observed:False, tagged:False, address:[forward()+0x204; OM::Simulator::start(scnXml::Monitoring const&)+0x468; OM::Population::update1(OM::SimTime)+0xff; OM::Host::Human::update(bool)+0x2bc; OM::Clinical::ClinicalModel::update(OM::Host::Human&, double, bool)+0xe8; OM::Clinical::CM5DayCommon::doClinicalUpdate(OM::Host::Human&, double)+0x67; OM::WithinHost::WHFalciparum::determineMorbidity(OM::Host::Human&, double, bool)+0x73; OM::WithinHost::Pathogenesis::PathogenesisModel::determineState(OM::Host::Human&, double, double, double, bool)+0x87; OM::util::random::bernoulli(double)+0x47; OM::util::random::uniform_01()+0xc0]__Uniform__568161, distribution:Uniform(lwo: tensor([0.]), high: tensor([1.])), value:tensor([0.1945]): log_prob:tensor(0.)) \n",
      "\n",
      "\n",
      " Address 6 : [forward()+0x204; OM::Simulator::start(scnXml::Monitoring const&)+0x468; OM::Population::update1(OM::SimTime)+0xff; OM::Host::Human::update(bool)+0x280; OM::WithinHost::DescriptiveWithinHostModel::update(int, std::vector<double, std::allocator<double> >&, double, double)+0x3a2; OM::WithinHost::DescriptiveInfection::determineDensities(double, double, double, double&, double, double)+0x303; OM::util::random::uniform_01()+0xc0]__Uniform \n",
      " Value : Variable(name:None, control:True, replace:False, observable:False, observed:False, tagged:False, address:[forward()+0x204; OM::Simulator::start(scnXml::Monitoring const&)+0x468; OM::Population::update1(OM::SimTime)+0xff; OM::Host::Human::update(bool)+0x280; OM::WithinHost::DescriptiveWithinHostModel::update(int, std::vector<double, std::allocator<double> >&, double, double)+0x3a2; OM::WithinHost::DescriptiveInfection::determineDensities(double, double, double, double&, double, double)+0x303; OM::util::random::uniform_01()+0xc0]__Uniform__2081280, distribution:Uniform(lwo: tensor([0.]), high: tensor([1.])), value:tensor([0.0404]): log_prob:tensor(0.)) \n",
      "\n",
      "\n",
      " Address 7 : [forward()+0x204; OM::Simulator::start(scnXml::Monitoring const&)+0x468; OM::Population::update1(OM::SimTime)+0xff; OM::Host::Human::update(bool)+0x2bc; OM::Clinical::ClinicalModel::update(OM::Host::Human&, double, bool)+0xe8; OM::Clinical::CM5DayCommon::doClinicalUpdate(OM::Host::Human&, double)+0x67; OM::WithinHost::WHFalciparum::determineMorbidity(OM::Host::Human&, double, bool)+0x73; OM::WithinHost::Pathogenesis::PathogenesisModel::determineState(OM::Host::Human&, double, double, double, bool)+0x143; OM::util::random::bernoulli(double)+0x47; OM::util::random::uniform_01()+0xc0]__Uniform \n",
      " Value : Variable(name:None, control:True, replace:False, observable:False, observed:False, tagged:False, address:[forward()+0x204; OM::Simulator::start(scnXml::Monitoring const&)+0x468; OM::Population::update1(OM::SimTime)+0xff; OM::Host::Human::update(bool)+0x2bc; OM::Clinical::ClinicalModel::update(OM::Host::Human&, double, bool)+0xe8; OM::Clinical::CM5DayCommon::doClinicalUpdate(OM::Host::Human&, double)+0x67; OM::WithinHost::WHFalciparum::determineMorbidity(OM::Host::Human&, double, bool)+0x73; OM::WithinHost::Pathogenesis::PathogenesisModel::determineState(OM::Host::Human&, double, double, double, bool)+0x143; OM::util::random::bernoulli(double)+0x47; OM::util::random::uniform_01()+0xc0]__Uniform__21679, distribution:Uniform(lwo: tensor([0.]), high: tensor([1.])), value:tensor([0.6051]): log_prob:tensor(0.)) \n",
      "\n",
      "\n",
      " Address 8 : [forward()+0x204; OM::Simulator::start(scnXml::Monitoring const&)+0x468; OM::Population::update1(OM::SimTime)+0xff; OM::Host::Human::update(bool)+0x2bc; OM::Clinical::ClinicalModel::update(OM::Host::Human&, double, bool)+0xe8; OM::Clinical::CM5DayCommon::doClinicalUpdate(OM::Host::Human&, double)+0x67; OM::WithinHost::WHFalciparum::determineMorbidity(OM::Host::Human&, double, bool)+0x73; OM::WithinHost::Pathogenesis::PathogenesisModel::determineState(OM::Host::Human&, double, double, double, bool)+0x162; OM::util::random::bernoulli(double)+0x47; OM::util::random::uniform_01()+0xc0]__Uniform \n",
      " Value : Variable(name:None, control:True, replace:False, observable:False, observed:False, tagged:False, address:[forward()+0x204; OM::Simulator::start(scnXml::Monitoring const&)+0x468; OM::Population::update1(OM::SimTime)+0xff; OM::Host::Human::update(bool)+0x2bc; OM::Clinical::ClinicalModel::update(OM::Host::Human&, double, bool)+0xe8; OM::Clinical::CM5DayCommon::doClinicalUpdate(OM::Host::Human&, double)+0x67; OM::WithinHost::WHFalciparum::determineMorbidity(OM::Host::Human&, double, bool)+0x73; OM::WithinHost::Pathogenesis::PathogenesisModel::determineState(OM::Host::Human&, double, double, double, bool)+0x162; OM::util::random::bernoulli(double)+0x47; OM::util::random::uniform_01()+0xc0]__Uniform__21646, distribution:Uniform(lwo: tensor([0.]), high: tensor([1.])), value:tensor([0.9160]): log_prob:tensor(0.)) \n",
      "\n",
      "\n",
      " Address 9 : [forward()+0x204; OM::Simulator::start(scnXml::Monitoring const&)+0x468; OM::Population::update1(OM::SimTime)+0xff; OM::Host::Human::update(bool)+0x2bc; OM::Clinical::ClinicalModel::update(OM::Host::Human&, double, bool)+0xe8; OM::Clinical::CM5DayCommon::doClinicalUpdate(OM::Host::Human&, double)+0x67; OM::WithinHost::WHFalciparum::determineMorbidity(OM::Host::Human&, double, bool)+0x73; OM::WithinHost::Pathogenesis::PathogenesisModel::determineState(OM::Host::Human&, double, double, double, bool)+0x1c7; OM::util::random::bernoulli(double)+0x47; OM::util::random::uniform_01()+0xc0]__Uniform \n",
      " Value : Variable(name:None, control:True, replace:False, observable:False, observed:False, tagged:False, address:[forward()+0x204; OM::Simulator::start(scnXml::Monitoring const&)+0x468; OM::Population::update1(OM::SimTime)+0xff; OM::Host::Human::update(bool)+0x2bc; OM::Clinical::ClinicalModel::update(OM::Host::Human&, double, bool)+0xe8; OM::Clinical::CM5DayCommon::doClinicalUpdate(OM::Host::Human&, double)+0x67; OM::WithinHost::WHFalciparum::determineMorbidity(OM::Host::Human&, double, bool)+0x73; OM::WithinHost::Pathogenesis::PathogenesisModel::determineState(OM::Host::Human&, double, double, double, bool)+0x1c7; OM::util::random::bernoulli(double)+0x47; OM::util::random::uniform_01()+0xc0]__Uniform__21679, distribution:Uniform(lwo: tensor([0.]), high: tensor([1.])), value:tensor([0.2410]): log_prob:tensor(0.)) \n",
      "\n",
      "\n",
      " Address 10 : [forward()+0x204; OM::Simulator::start(scnXml::Monitoring const&)+0x468; OM::Population::update1(OM::SimTime)+0xff; OM::Host::Human::update(bool)+0x2bc; OM::Clinical::ClinicalModel::update(OM::Host::Human&, double, bool)+0xe8; OM::Clinical::CM5DayCommon::doClinicalUpdate(OM::Host::Human&, double)+0xe3; OM::Clinical::ImmediateOutcomes::uncomplicatedEvent(OM::Host::Human&, OM::Clinical::Episode::State)+0x87; OM::util::random::uniform_01()+0xc0]__Uniform \n",
      " Value : Variable(name:None, control:True, replace:False, observable:False, observed:False, tagged:False, address:[forward()+0x204; OM::Simulator::start(scnXml::Monitoring const&)+0x468; OM::Population::update1(OM::SimTime)+0xff; OM::Host::Human::update(bool)+0x2bc; OM::Clinical::ClinicalModel::update(OM::Host::Human&, double, bool)+0xe8; OM::Clinical::CM5DayCommon::doClinicalUpdate(OM::Host::Human&, double)+0xe3; OM::Clinical::ImmediateOutcomes::uncomplicatedEvent(OM::Host::Human&, OM::Clinical::Episode::State)+0x87; OM::util::random::uniform_01()+0xc0]__Uniform__21478, distribution:Uniform(lwo: tensor([0.]), high: tensor([1.])), value:tensor([0.1027]): log_prob:tensor(0.)) \n",
      "\n",
      "\n",
      " Address 11 : [forward()+0x204; OM::Simulator::start(scnXml::Monitoring const&)+0x468; OM::Population::update1(OM::SimTime)+0xff; OM::Host::Human::update(bool)+0x2bc; OM::Clinical::ClinicalModel::update(OM::Host::Human&, double, bool)+0xe8; OM::Clinical::CM5DayCommon::doClinicalUpdate(OM::Host::Human&, double)+0xad; OM::Clinical::CM5DayCommon::severeMalaria(OM::Host::Human&, OM::Clinical::Episode::State, double, int&)+0x4b1; OM::util::random::uniform_01()+0xc0]__Uniform \n",
      " Value : Variable(name:None, control:True, replace:False, observable:False, observed:False, tagged:False, address:[forward()+0x204; OM::Simulator::start(scnXml::Monitoring const&)+0x468; OM::Population::update1(OM::SimTime)+0xff; OM::Host::Human::update(bool)+0x2bc; OM::Clinical::ClinicalModel::update(OM::Host::Human&, double, bool)+0xe8; OM::Clinical::CM5DayCommon::doClinicalUpdate(OM::Host::Human&, double)+0xad; OM::Clinical::CM5DayCommon::severeMalaria(OM::Host::Human&, OM::Clinical::Episode::State, double, int&)+0x4b1; OM::util::random::uniform_01()+0xc0]__Uniform__164, distribution:Uniform(lwo: tensor([0.]), high: tensor([1.])), value:tensor([0.6736]): log_prob:tensor(0.)) \n",
      "\n",
      "\n"
     ]
    }
   ],
   "source": [
    "# print(len(prior))\n",
    "# trace=prior._values[0]\n",
    "prior._values\n",
    "trace=prior._values[0]\n",
    "var = trace.variables\n",
    "# len(var)\n",
    "# print(var)\n",
    "count  = 1\n",
    "for k in trace.variables_dict_address_base:\n",
    "    print(\" Address {2} : {0} \\n Value : {1} \\n\\n\".format(k,trace.variables_dict_address_base[k],count))\n",
    "    count += 1\n",
    "# trace.execution_time_sec"
   ]
  },
  {
   "cell_type": "code",
   "execution_count": null,
   "metadata": {},
   "outputs": [],
   "source": [
    "pyprob.diagnostics.graph(prior, file_name=\"./ewan_25_pop_100.pdf\")\n",
    "import pickle\n",
    "filename = 'Ewan_pop_100_prior_trace.obj'\n",
    "filehandle = open(filename,'w')\n",
    "pickle.dump(prior,filehandle)"
   ]
  },
  {
   "cell_type": "code",
   "execution_count": 5,
   "metadata": {},
   "outputs": [
    {
     "data": {
      "text/plain": [
       "'/Users/bradley/Documents/Projects/OpenMalaria/code/notebooks'"
      ]
     },
     "execution_count": 5,
     "metadata": {},
     "output_type": "execute_result"
    }
   ],
   "source": []
  },
  {
   "cell_type": "code",
   "execution_count": null,
   "metadata": {},
   "outputs": [],
   "source": []
  }
 ],
 "metadata": {
  "kernelspec": {
   "display_name": "Python 3",
   "language": "python",
   "name": "python3"
  },
  "language_info": {
   "codemirror_mode": {
    "name": "ipython",
    "version": 3
   },
   "file_extension": ".py",
   "mimetype": "text/x-python",
   "name": "python",
   "nbconvert_exporter": "python",
   "pygments_lexer": "ipython3",
   "version": "3.6.7"
  }
 },
 "nbformat": 4,
 "nbformat_minor": 2
}
