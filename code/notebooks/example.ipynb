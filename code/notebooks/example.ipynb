{
 "cells": [
  {
   "cell_type": "code",
   "execution_count": 2,
   "metadata": {},
   "outputs": [],
   "source": [
    "import pyprob\n",
    "from pyprob.distributions import Normal\n",
    "import pyprob.diagnostics\n",
    "import torch\n",
    "import pandas\n",
    "import os\n",
    "\n",
    "def parse_n_infect_from_output(file_name='/home/examples/output.txt'):\n",
    "    data = pandas.read_csv(file_name, sep='\\t', names = [\"survey_number\", \"third_dimension\", \"measure\", \"value\"])\n",
    "    n_infect = torch.from_numpy(data['value'][:12].values)\n",
    "    return n_infect\n",
    "\n",
    "PATH = '/home/examples/test/'\n",
    "def forward_before():\n",
    "    exists = os.path.isfile(PATH + 'output.txt')\n",
    "    if exists:\n",
    "        print('Removing output...')\n",
    "        os.remove(PATH+'output.txt')\n",
    "    \n",
    "def forward_after():\n",
    "    n_infect = parse_n_infect_from_output()\n",
    "    likelihood = Normal(n_infect, 0.01)\n",
    "    pyprob.observe(likelihood, name='n_infect')\n",
    "\n",
    "# This will save in /code/notebooks\n",
    "file_name = 'trace'\n",
    "address_dict_file_name = 'address_dict'\n",
    "use_address_base=True\n",
    "model = pyprob.RemoteModel('ipc://@openmalaria_probprog', before_forward_func=forward_before ,after_forward_func=forward_after, address_dict_file_name=address_dict_file_name)"
   ]
  },
  {
   "cell_type": "markdown",
   "metadata": {},
   "source": [
    "## Generating the Prior"
   ]
  },
  {
   "cell_type": "code",
   "execution_count": 3,
   "metadata": {},
   "outputs": [
    {
     "name": "stdout",
     "output_type": "stream",
     "text": [
      "Time spent  | Time remain.| Progress             | Trace | Traces/sec\n",
      "ppx (Python): zmq.REQ socket connecting to server ipc://@openmalaria_probprog\n",
      "ppx (Python): This system        : \u001b[32mpyprob 0.13.2.dev18\u001b[0m\n",
      "ppx (Python): Connected to system: \u001b[32mpyprob_cpp 0.1.9 (master:7290be2)\u001b[0m\n",
      "ppx (Python): Model name         : \u001b[1m\u001b[32mOpenMalaria probprog\u001b[0m\n",
      "Removing output...0:14:09 | #################### | 2/2 | 0.00       \n",
      "\n"
     ]
    }
   ],
   "source": [
    "prior = model.prior_traces(num_traces=3, file_name=file_name)"
   ]
  },
  {
   "cell_type": "markdown",
   "metadata": {},
   "source": [
    "## Analysing the Prior"
   ]
  },
  {
   "cell_type": "code",
   "execution_count": null,
   "metadata": {},
   "outputs": [],
   "source": [
    "# print(len(prior))\n",
    "# trace=prior._values[0]\n",
    "prior._values\n",
    "trace=prior._values[0]\n",
    "var = trace.variables\n",
    "# len(var)\n",
    "# print(var)\n",
    "count  = 1\n",
    "for k in trace.variables_dict_address_base:\n",
    "    print(\" Address {2} : {0} \\n Value : {1} \\n\\n\".format(k,trace.variables_dict_address_base[k],count))\n",
    "    count += 1\n",
    "pyprob.diagnostics.graph(prior, file_name=\"mpenny_10\")\n",
    "print(prior.save_metadata)"
   ]
  },
  {
   "cell_type": "markdown",
   "metadata": {},
   "source": [
    "## Generating to the posterior by conditioning on the number of infected individuals for each demographic"
   ]
  },
  {
   "cell_type": "code",
   "execution_count": null,
   "metadata": {},
   "outputs": [
    {
     "name": "stdout",
     "output_type": "stream",
     "text": [
      "Removing output...\n"
     ]
    }
   ],
   "source": [
    " posterior_dist = model.posterior_traces(num_traces=2, inference_engine=pyprob.InferenceEngine.RANDOM_WALK_METROPOLIS_HASTINGS, observe={'n_infect': parse_n_infect_from_output})"
   ]
  },
  {
   "cell_type": "markdown",
   "metadata": {},
   "source": [
    "#### View observations"
   ]
  },
  {
   "cell_type": "code",
   "execution_count": null,
   "metadata": {},
   "outputs": [],
   "source": [
    "# ground_truth_trace = next(model._trace_generator())\n",
    "prior.named_variables['n_infect'].value"
   ]
  },
  {
   "cell_type": "code",
   "execution_count": null,
   "metadata": {},
   "outputs": [],
   "source": [
    "is_posterior_traces = model.posterior_traces(observe={'n_infect': ground_truth_prevalence}, num_traces=5)\n",
    "is_posterior_population = is_posterior_traces.map(lambda trace: trace.named_variables['population'].value)\n",
    "is_posterior_prevalence = is_posterior_population.map(get_prevalence)"
   ]
  },
  {
   "cell_type": "markdown",
   "metadata": {},
   "source": [
    "## Plot Histogram of Addresses"
   ]
  },
  {
   "cell_type": "code",
   "execution_count": null,
   "metadata": {},
   "outputs": [],
   "source": [
    "# we currently do not have a ground truth for this scenario run with a small pop size\n",
    "pyprob.diagnostics.address_histograms(dists, plot=True, plot_show=True, file_name=file_name, ground_truth_trace=ground_truth_trace, use_address_base=use_address_base)"
   ]
  },
  {
   "cell_type": "code",
   "execution_count": null,
   "metadata": {},
   "outputs": [],
   "source": []
  },
  {
   "cell_type": "code",
   "execution_count": 8,
   "metadata": {},
   "outputs": [
    {
     "name": "stdout",
     "output_type": "stream",
     "text": [
      " Address 1 : [forward()+0x1f3; OM::Simulator::start(scnXml::Monitoring const&)+0x28a; OM::Population::createInitialHumans()+0x94; OM::Population::newHuman(OM::SimTime)+0x5c; OM::Host::Human::Human(OM::SimTime)+0x12b; OM::WithinHost::WHInterface::createWithinHostModel(double)+0x72; OM::WithinHost::CommonWithinHost::CommonWithinHost(double)+0x3a; OM::WithinHost::WHFalciparum::WHFalciparum(double)+0xe6; OM::util::random::gauss(double, double)+0xb4]__Normal \n",
      " Value : Variable(name:None, control:True, replace:False, observable:False, observed:False, tagged:False, address:[forward()+0x1f3; OM::Simulator::start(scnXml::Monitoring const&)+0x28a; OM::Population::createInitialHumans()+0x94; OM::Population::newHuman(OM::SimTime)+0x5c; OM::Host::Human::Human(OM::SimTime)+0x12b; OM::WithinHost::WHInterface::createWithinHostModel(double)+0x72; OM::WithinHost::CommonWithinHost::CommonWithinHost(double)+0x3a; OM::WithinHost::WHFalciparum::WHFalciparum(double)+0xe6; OM::util::random::gauss(double, double)+0xb4]__Normal__10, distribution:Normal(mean:tensor([0.]), stddev:tensor([0.])), value:tensor([0.]): log_prob:tensor(nan)) \n",
      "\n",
      "\n",
      " Address 2 : [forward()+0x1f3; OM::Simulator::start(scnXml::Monitoring const&)+0x28a; OM::Population::createInitialHumans()+0x94; OM::Population::newHuman(OM::SimTime)+0x5c; OM::Host::Human::Human(OM::SimTime)+0x12b; OM::WithinHost::WHInterface::createWithinHostModel(double)+0x72; OM::WithinHost::CommonWithinHost::CommonWithinHost(double)+0xfd; OM::util::random::gauss(double, double)+0xb4]__Normal \n",
      " Value : Variable(name:None, control:True, replace:False, observable:False, observed:False, tagged:False, address:[forward()+0x1f3; OM::Simulator::start(scnXml::Monitoring const&)+0x28a; OM::Population::createInitialHumans()+0x94; OM::Population::newHuman(OM::SimTime)+0x5c; OM::Host::Human::Human(OM::SimTime)+0x12b; OM::WithinHost::WHInterface::createWithinHostModel(double)+0x72; OM::WithinHost::CommonWithinHost::CommonWithinHost(double)+0xfd; OM::util::random::gauss(double, double)+0xb4]__Normal__10, distribution:Normal(mean:tensor([1.]), stddev:tensor([0.1400])), value:tensor([0.9402]): log_prob:tensor(0.9561)) \n",
      "\n",
      "\n",
      " Address 3 : [forward()+0x1f3; OM::Simulator::start(scnXml::Monitoring const&)+0x468; OM::Population::update1(OM::SimTime)+0x1e9; OM::Population::newHuman(OM::SimTime)+0x5c; OM::Host::Human::Human(OM::SimTime)+0x12b; OM::WithinHost::WHInterface::createWithinHostModel(double)+0x72; OM::WithinHost::CommonWithinHost::CommonWithinHost(double)+0x3a; OM::WithinHost::WHFalciparum::WHFalciparum(double)+0xe6; OM::util::random::gauss(double, double)+0xb4]__Normal \n",
      " Value : Variable(name:None, control:True, replace:False, observable:False, observed:False, tagged:False, address:[forward()+0x1f3; OM::Simulator::start(scnXml::Monitoring const&)+0x468; OM::Population::update1(OM::SimTime)+0x1e9; OM::Population::newHuman(OM::SimTime)+0x5c; OM::Host::Human::Human(OM::SimTime)+0x12b; OM::WithinHost::WHInterface::createWithinHostModel(double)+0x72; OM::WithinHost::CommonWithinHost::CommonWithinHost(double)+0x3a; OM::WithinHost::WHFalciparum::WHFalciparum(double)+0xe6; OM::util::random::gauss(double, double)+0xb4]__Normal__92, distribution:Normal(mean:tensor([0.]), stddev:tensor([0.])), value:tensor([0.]): log_prob:tensor(nan)) \n",
      "\n",
      "\n",
      " Address 4 : [forward()+0x1f3; OM::Simulator::start(scnXml::Monitoring const&)+0x468; OM::Population::update1(OM::SimTime)+0x1e9; OM::Population::newHuman(OM::SimTime)+0x5c; OM::Host::Human::Human(OM::SimTime)+0x12b; OM::WithinHost::WHInterface::createWithinHostModel(double)+0x72; OM::WithinHost::CommonWithinHost::CommonWithinHost(double)+0xfd; OM::util::random::gauss(double, double)+0xb4]__Normal \n",
      " Value : Variable(name:None, control:True, replace:False, observable:False, observed:False, tagged:False, address:[forward()+0x1f3; OM::Simulator::start(scnXml::Monitoring const&)+0x468; OM::Population::update1(OM::SimTime)+0x1e9; OM::Population::newHuman(OM::SimTime)+0x5c; OM::Host::Human::Human(OM::SimTime)+0x12b; OM::WithinHost::WHInterface::createWithinHostModel(double)+0x72; OM::WithinHost::CommonWithinHost::CommonWithinHost(double)+0xfd; OM::util::random::gauss(double, double)+0xb4]__Normal__92, distribution:Normal(mean:tensor([1.]), stddev:tensor([0.1400])), value:tensor([0.8506]): log_prob:tensor(0.4777)) \n",
      "\n",
      "\n",
      " Address 5 : [forward()+0x1f3; OM::Simulator::start(scnXml::Monitoring const&)+0x468; OM::Population::update1(OM::SimTime)+0xff; OM::Host::Human::update(bool)+0x22c; OM::Host::InfectionIncidenceModel::numNewInfections(OM::Host::Human const&, double)+0x2a3; OM::util::random::poisson(double)+0x13f]__Poisson \n",
      " Value : Variable(name:None, control:True, replace:False, observable:False, observed:False, tagged:False, address:[forward()+0x1f3; OM::Simulator::start(scnXml::Monitoring const&)+0x468; OM::Population::update1(OM::SimTime)+0xff; OM::Host::Human::update(bool)+0x22c; OM::Host::InfectionIncidenceModel::numNewInfections(OM::Host::Human const&, double)+0x2a3; OM::util::random::poisson(double)+0x13f]__Poisson__270827, distribution:Poisson(rate: tensor([2.4090e-06])), value:tensor([0.]): log_prob:tensor(-2.4090e-06)) \n",
      "\n",
      "\n",
      " Address 6 : [forward()+0x1f3; OM::Simulator::start(scnXml::Monitoring const&)+0x468; OM::Population::update1(OM::SimTime)+0xff; OM::Host::Human::update(bool)+0x2bc; OM::Clinical::ClinicalModel::update(OM::Host::Human&, double, bool)+0x96; OM::Host::NeonatalMortality::eventNeonatalMortality()+0x9; OM::util::random::uniform_01()+0xc0]__Uniform \n",
      " Value : Variable(name:None, control:True, replace:False, observable:False, observed:False, tagged:False, address:[forward()+0x1f3; OM::Simulator::start(scnXml::Monitoring const&)+0x468; OM::Population::update1(OM::SimTime)+0xff; OM::Host::Human::update(bool)+0x2bc; OM::Clinical::ClinicalModel::update(OM::Host::Human&, double, bool)+0x96; OM::Host::NeonatalMortality::eventNeonatalMortality()+0x9; OM::util::random::uniform_01()+0xc0]__Uniform__92, distribution:Uniform(lwo: tensor([0.]), high: tensor([1.])), value:tensor([0.5961]): log_prob:tensor(0.)) \n",
      "\n",
      "\n",
      " Address 7 : [forward()+0x1f3; OM::Simulator::start(scnXml::Monitoring const&)+0x468; OM::Population::update1(OM::SimTime)+0xff; OM::Host::Human::update(bool)+0x2bc; OM::Clinical::ClinicalModel::update(OM::Host::Human&, double, bool)+0xe8; OM::Clinical::ClinicalEventScheduler::doClinicalUpdate(OM::Host::Human&, double)+0xa0; OM::WithinHost::WHFalciparum::determineMorbidity(OM::Host::Human&, double, bool)+0x73; OM::WithinHost::Pathogenesis::PathogenesisModel::determineState(OM::Host::Human&, double, double, double, bool)+0x87; OM::util::random::bernoulli(double)+0x47; OM::util::random::uniform_01()+0xc0]__Uniform \n",
      " Value : Variable(name:None, control:True, replace:False, observable:False, observed:False, tagged:False, address:[forward()+0x1f3; OM::Simulator::start(scnXml::Monitoring const&)+0x468; OM::Population::update1(OM::SimTime)+0xff; OM::Host::Human::update(bool)+0x2bc; OM::Clinical::ClinicalModel::update(OM::Host::Human&, double, bool)+0xe8; OM::Clinical::ClinicalEventScheduler::doClinicalUpdate(OM::Host::Human&, double)+0xa0; OM::WithinHost::WHFalciparum::determineMorbidity(OM::Host::Human&, double, bool)+0x73; OM::WithinHost::Pathogenesis::PathogenesisModel::determineState(OM::Host::Human&, double, double, double, bool)+0x87; OM::util::random::bernoulli(double)+0x47; OM::util::random::uniform_01()+0xc0]__Uniform__313771, distribution:Uniform(lwo: tensor([0.]), high: tensor([1.])), value:tensor([0.3600]): log_prob:tensor(0.)) \n",
      "\n",
      "\n",
      " Address 8 : [forward()+0x1f3; OM::Simulator::start(scnXml::Monitoring const&)+0x468; OM::Population::update1(OM::SimTime)+0xff; OM::Host::Human::update(bool)+0x280; OM::WithinHost::CommonWithinHost::update(int, std::vector<double, std::allocator<double> >&, double, double)+0x25d; OM::WithinHost::createPennyInfection(unsigned int)+0x28; OM::WithinHost::PennyInfection::PennyInfection(unsigned int)+0x17a; OM::util::random::gauss(double, double)+0xb4]__Normal \n",
      " Value : Variable(name:None, control:True, replace:False, observable:False, observed:False, tagged:False, address:[forward()+0x1f3; OM::Simulator::start(scnXml::Monitoring const&)+0x468; OM::Population::update1(OM::SimTime)+0xff; OM::Host::Human::update(bool)+0x280; OM::WithinHost::CommonWithinHost::update(int, std::vector<double, std::allocator<double> >&, double, double)+0x25d; OM::WithinHost::createPennyInfection(unsigned int)+0x28; OM::WithinHost::PennyInfection::PennyInfection(unsigned int)+0x17a; OM::util::random::gauss(double, double)+0xb4]__Normal__8577, distribution:Normal(mean:tensor([7.5872]), stddev:tensor([2.8977])), value:tensor([8.3092]): log_prob:tensor(-2.0139)) \n",
      "\n",
      "\n",
      " Address 9 : [forward()+0x1f3; OM::Simulator::start(scnXml::Monitoring const&)+0x468; OM::Population::update1(OM::SimTime)+0xff; OM::Host::Human::update(bool)+0x280; OM::WithinHost::CommonWithinHost::update(int, std::vector<double, std::allocator<double> >&, double, double)+0x25d; OM::WithinHost::createPennyInfection(unsigned int)+0x28; OM::WithinHost::PennyInfection::PennyInfection(unsigned int)+0x1b0; OM::util::random::gauss(double, double)+0xb4]__Normal \n",
      " Value : Variable(name:None, control:True, replace:False, observable:False, observed:False, tagged:False, address:[forward()+0x1f3; OM::Simulator::start(scnXml::Monitoring const&)+0x468; OM::Population::update1(OM::SimTime)+0xff; OM::Host::Human::update(bool)+0x280; OM::WithinHost::CommonWithinHost::update(int, std::vector<double, std::allocator<double> >&, double, double)+0x25d; OM::WithinHost::createPennyInfection(unsigned int)+0x28; OM::WithinHost::PennyInfection::PennyInfection(unsigned int)+0x1b0; OM::util::random::gauss(double, double)+0xb4]__Normal__8577, distribution:Normal(mean:tensor([5.5573]), stddev:tensor([0.4068])), value:tensor([5.5769]): log_prob:tensor(-0.0207)) \n",
      "\n",
      "\n",
      " Address 10 : [forward()+0x1f3; OM::Simulator::start(scnXml::Monitoring const&)+0x468; OM::Population::update1(OM::SimTime)+0xff; OM::Host::Human::update(bool)+0x280; OM::WithinHost::CommonWithinHost::update(int, std::vector<double, std::allocator<double> >&, double, double)+0x25d; OM::WithinHost::createPennyInfection(unsigned int)+0x28; OM::WithinHost::PennyInfection::PennyInfection(unsigned int)+0x1e6; OM::util::random::gauss(double, double)+0xb4]__Normal \n",
      " Value : Variable(name:None, control:True, replace:False, observable:False, observed:False, tagged:False, address:[forward()+0x1f3; OM::Simulator::start(scnXml::Monitoring const&)+0x468; OM::Population::update1(OM::SimTime)+0xff; OM::Host::Human::update(bool)+0x280; OM::WithinHost::CommonWithinHost::update(int, std::vector<double, std::allocator<double> >&, double, double)+0x25d; OM::WithinHost::createPennyInfection(unsigned int)+0x28; OM::WithinHost::PennyInfection::PennyInfection(unsigned int)+0x1e6; OM::util::random::gauss(double, double)+0xb4]__Normal__8577, distribution:Normal(mean:tensor([6.1290]), stddev:tensor([1.3768])), value:tensor([4.8094]): log_prob:tensor(-1.6980)) \n",
      "\n",
      "\n",
      " Address 11 : [forward()+0x1f3; OM::Simulator::start(scnXml::Monitoring const&)+0x468; OM::Population::update1(OM::SimTime)+0xff; OM::Host::Human::update(bool)+0x280; OM::WithinHost::CommonWithinHost::update(int, std::vector<double, std::allocator<double> >&, double, double)+0x58e; OM::WithinHost::CommonInfection::update(double, OM::SimTime, double)+0xa7; OM::WithinHost::PennyInfection::updateDensity(double, OM::SimTime, double)+0xee; OM::util::random::gauss(double, double)+0xb4]__Normal \n",
      " Value : Variable(name:None, control:True, replace:False, observable:False, observed:False, tagged:False, address:[forward()+0x1f3; OM::Simulator::start(scnXml::Monitoring const&)+0x468; OM::Population::update1(OM::SimTime)+0xff; OM::Host::Human::update(bool)+0x280; OM::WithinHost::CommonWithinHost::update(int, std::vector<double, std::allocator<double> >&, double, double)+0x58e; OM::WithinHost::CommonInfection::update(double, OM::SimTime, double)+0xa7; OM::WithinHost::PennyInfection::updateDensity(double, OM::SimTime, double)+0xee; OM::util::random::gauss(double, double)+0xb4]__Normal__5556, distribution:Normal(mean:tensor([3.9700]), stddev:tensor([1.3436])), value:tensor([3.6210]): log_prob:tensor(-1.2480)) \n",
      "\n",
      "\n",
      " Address 12 : [forward()+0x1f3; OM::Simulator::start(scnXml::Monitoring const&)+0x468; OM::Population::update1(OM::SimTime)+0xff; OM::Host::Human::update(bool)+0x280; OM::WithinHost::CommonWithinHost::update(int, std::vector<double, std::allocator<double> >&, double, double)+0x58e; OM::WithinHost::CommonInfection::update(double, OM::SimTime, double)+0xa7; OM::WithinHost::PennyInfection::updateDensity(double, OM::SimTime, double)+0x1c0; OM::util::random::gauss(double, double)+0xb4]__Normal \n",
      " Value : Variable(name:None, control:True, replace:False, observable:False, observed:False, tagged:False, address:[forward()+0x1f3; OM::Simulator::start(scnXml::Monitoring const&)+0x468; OM::Population::update1(OM::SimTime)+0xff; OM::Host::Human::update(bool)+0x280; OM::WithinHost::CommonWithinHost::update(int, std::vector<double, std::allocator<double> >&, double, double)+0x58e; OM::WithinHost::CommonInfection::update(double, OM::SimTime, double)+0xa7; OM::WithinHost::PennyInfection::updateDensity(double, OM::SimTime, double)+0x1c0; OM::util::random::gauss(double, double)+0xb4]__Normal__5556, distribution:Normal(mean:tensor([1.9969]), stddev:tensor([0.7424])), value:tensor([1.9185]): log_prob:tensor(-0.6266)) \n",
      "\n",
      "\n",
      " Address 13 : [forward()+0x1f3; OM::Simulator::start(scnXml::Monitoring const&)+0x468; OM::Population::update1(OM::SimTime)+0xff; OM::Host::Human::update(bool)+0x280; OM::WithinHost::CommonWithinHost::update(int, std::vector<double, std::allocator<double> >&, double, double)+0x58e; OM::WithinHost::CommonInfection::update(double, OM::SimTime, double)+0xa7; OM::WithinHost::PennyInfection::updateDensity(double, OM::SimTime, double)+0x3d7; OM::WithinHost::PennyInfection::getVariantSpecificSummation(int)+0x24; OM::util::random::bernoulli(double)+0x47; OM::util::random::uniform_01()+0xc0]__Uniform \n",
      " Value : Variable(name:None, control:True, replace:False, observable:False, observed:False, tagged:False, address:[forward()+0x1f3; OM::Simulator::start(scnXml::Monitoring const&)+0x468; OM::Population::update1(OM::SimTime)+0xff; OM::Host::Human::update(bool)+0x280; OM::WithinHost::CommonWithinHost::update(int, std::vector<double, std::allocator<double> >&, double, double)+0x58e; OM::WithinHost::CommonInfection::update(double, OM::SimTime, double)+0xa7; OM::WithinHost::PennyInfection::updateDensity(double, OM::SimTime, double)+0x3d7; OM::WithinHost::PennyInfection::getVariantSpecificSummation(int)+0x24; OM::util::random::bernoulli(double)+0x47; OM::util::random::uniform_01()+0xc0]__Uniform__202871, distribution:Uniform(lwo: tensor([0.]), high: tensor([1.])), value:tensor([0.5701]): log_prob:tensor(0.)) \n",
      "\n",
      "\n",
      " Address 14 : [forward()+0x1f3; OM::Simulator::start(scnXml::Monitoring const&)+0x468; OM::Population::update1(OM::SimTime)+0xff; OM::Host::Human::update(bool)+0x280; OM::WithinHost::CommonWithinHost::update(int, std::vector<double, std::allocator<double> >&, double, double)+0x58e; OM::WithinHost::CommonInfection::update(double, OM::SimTime, double)+0xa7; OM::WithinHost::PennyInfection::updateDensity(double, OM::SimTime, double)+0x606; OM::util::random::gauss(double, double)+0xb4]__Normal \n",
      " Value : Variable(name:None, control:True, replace:False, observable:False, observed:False, tagged:False, address:[forward()+0x1f3; OM::Simulator::start(scnXml::Monitoring const&)+0x468; OM::Population::update1(OM::SimTime)+0xff; OM::Host::Human::update(bool)+0x280; OM::WithinHost::CommonWithinHost::update(int, std::vector<double, std::allocator<double> >&, double, double)+0x58e; OM::WithinHost::CommonInfection::update(double, OM::SimTime, double)+0xa7; OM::WithinHost::PennyInfection::updateDensity(double, OM::SimTime, double)+0x606; OM::util::random::gauss(double, double)+0xb4]__Normal__166235, distribution:Normal(mean:tensor([9.6513]), stddev:tensor([1.4217])), value:tensor([9.2119]): log_prob:tensor(-1.3186)) \n",
      "\n",
      "\n",
      " Address 15 : [forward()+0x1f3; OM::Simulator::start(scnXml::Monitoring const&)+0x468; OM::Population::update1(OM::SimTime)+0xff; OM::Host::Human::update(bool)+0x2bc; OM::Clinical::ClinicalModel::update(OM::Host::Human&, double, bool)+0xe8; OM::Clinical::ClinicalEventScheduler::doClinicalUpdate(OM::Host::Human&, double)+0xa0; OM::WithinHost::WHFalciparum::determineMorbidity(OM::Host::Human&, double, bool)+0x73; OM::WithinHost::Pathogenesis::PathogenesisModel::determineState(OM::Host::Human&, double, double, double, bool)+0x143; OM::util::random::bernoulli(double)+0x47; OM::util::random::uniform_01()+0xc0]__Uniform \n",
      " Value : Variable(name:None, control:True, replace:False, observable:False, observed:False, tagged:False, address:[forward()+0x1f3; OM::Simulator::start(scnXml::Monitoring const&)+0x468; OM::Population::update1(OM::SimTime)+0xff; OM::Host::Human::update(bool)+0x2bc; OM::Clinical::ClinicalModel::update(OM::Host::Human&, double, bool)+0xe8; OM::Clinical::ClinicalEventScheduler::doClinicalUpdate(OM::Host::Human&, double)+0xa0; OM::WithinHost::WHFalciparum::determineMorbidity(OM::Host::Human&, double, bool)+0x73; OM::WithinHost::Pathogenesis::PathogenesisModel::determineState(OM::Host::Human&, double, double, double, bool)+0x143; OM::util::random::bernoulli(double)+0x47; OM::util::random::uniform_01()+0xc0]__Uniform__29954, distribution:Uniform(lwo: tensor([0.]), high: tensor([1.])), value:tensor([0.6426]): log_prob:tensor(0.)) \n",
      "\n",
      "\n",
      " Address 16 : [forward()+0x1f3; OM::Simulator::start(scnXml::Monitoring const&)+0x468; OM::Population::update1(OM::SimTime)+0xff; OM::Host::Human::update(bool)+0x2bc; OM::Clinical::ClinicalModel::update(OM::Host::Human&, double, bool)+0xe8; OM::Clinical::ClinicalEventScheduler::doClinicalUpdate(OM::Host::Human&, double)+0xa0; OM::WithinHost::WHFalciparum::determineMorbidity(OM::Host::Human&, double, bool)+0x73; OM::WithinHost::Pathogenesis::PathogenesisModel::determineState(OM::Host::Human&, double, double, double, bool)+0x162; OM::util::random::bernoulli(double)+0x47; OM::util::random::uniform_01()+0xc0]__Uniform \n",
      " Value : Variable(name:None, control:True, replace:False, observable:False, observed:False, tagged:False, address:[forward()+0x1f3; OM::Simulator::start(scnXml::Monitoring const&)+0x468; OM::Population::update1(OM::SimTime)+0xff; OM::Host::Human::update(bool)+0x2bc; OM::Clinical::ClinicalModel::update(OM::Host::Human&, double, bool)+0xe8; OM::Clinical::ClinicalEventScheduler::doClinicalUpdate(OM::Host::Human&, double)+0xa0; OM::WithinHost::WHFalciparum::determineMorbidity(OM::Host::Human&, double, bool)+0x73; OM::WithinHost::Pathogenesis::PathogenesisModel::determineState(OM::Host::Human&, double, double, double, bool)+0x162; OM::util::random::bernoulli(double)+0x47; OM::util::random::uniform_01()+0xc0]__Uniform__29949, distribution:Uniform(lwo: tensor([0.]), high: tensor([1.])), value:tensor([0.9710]): log_prob:tensor(0.)) \n",
      "\n",
      "\n",
      " Address 17 : [forward()+0x1f3; OM::Simulator::start(scnXml::Monitoring const&)+0x468; OM::Population::update1(OM::SimTime)+0xff; OM::Host::Human::update(bool)+0x2bc; OM::Clinical::ClinicalModel::update(OM::Host::Human&, double, bool)+0xe8; OM::Clinical::ClinicalEventScheduler::doClinicalUpdate(OM::Host::Human&, double)+0xa0; OM::WithinHost::WHFalciparum::determineMorbidity(OM::Host::Human&, double, bool)+0x73; OM::WithinHost::Pathogenesis::PathogenesisModel::determineState(OM::Host::Human&, double, double, double, bool)+0x1c7; OM::util::random::bernoulli(double)+0x47; OM::util::random::uniform_01()+0xc0]__Uniform \n",
      " Value : Variable(name:None, control:True, replace:False, observable:False, observed:False, tagged:False, address:[forward()+0x1f3; OM::Simulator::start(scnXml::Monitoring const&)+0x468; OM::Population::update1(OM::SimTime)+0xff; OM::Host::Human::update(bool)+0x2bc; OM::Clinical::ClinicalModel::update(OM::Host::Human&, double, bool)+0xe8; OM::Clinical::ClinicalEventScheduler::doClinicalUpdate(OM::Host::Human&, double)+0xa0; OM::WithinHost::WHFalciparum::determineMorbidity(OM::Host::Human&, double, bool)+0x73; OM::WithinHost::Pathogenesis::PathogenesisModel::determineState(OM::Host::Human&, double, double, double, bool)+0x1c7; OM::util::random::bernoulli(double)+0x47; OM::util::random::uniform_01()+0xc0]__Uniform__29954, distribution:Uniform(lwo: tensor([0.]), high: tensor([1.])), value:tensor([0.5680]): log_prob:tensor(0.)) \n",
      "\n",
      "\n",
      " Address 18 : [forward()+0x1f3; OM::Simulator::start(scnXml::Monitoring const&)+0x468; OM::Population::update1(OM::SimTime)+0xff; OM::Host::Human::update(bool)+0x2bc; OM::Clinical::ClinicalModel::update(OM::Host::Human&, double, bool)+0xe8; OM::Clinical::ClinicalEventScheduler::doClinicalUpdate(OM::Host::Human&, double)+0x357; OM::util::random::uniform_01()+0xc0]__Uniform \n",
      " Value : Variable(name:None, control:True, replace:False, observable:False, observed:False, tagged:False, address:[forward()+0x1f3; OM::Simulator::start(scnXml::Monitoring const&)+0x468; OM::Population::update1(OM::SimTime)+0xff; OM::Host::Human::update(bool)+0x2bc; OM::Clinical::ClinicalModel::update(OM::Host::Human&, double, bool)+0xe8; OM::Clinical::ClinicalEventScheduler::doClinicalUpdate(OM::Host::Human&, double)+0x357; OM::util::random::uniform_01()+0xc0]__Uniform__14275, distribution:Uniform(lwo: tensor([0.]), high: tensor([1.])), value:tensor([0.0355]): log_prob:tensor(0.)) \n",
      "\n",
      "\n",
      " Address 19 : [forward()+0x1f3; OM::Simulator::start(scnXml::Monitoring const&)+0x468; OM::Population::update1(OM::SimTime)+0xff; OM::Host::Human::update(bool)+0x2bc; OM::Clinical::ClinicalModel::update(OM::Host::Human&, double, bool)+0xe8; OM::Clinical::ClinicalEventScheduler::doClinicalUpdate(OM::Host::Human&, double)+0x6b8; OM::util::random::uniform_01()+0xc0]__Uniform \n",
      " Value : Variable(name:None, control:True, replace:False, observable:False, observed:False, tagged:False, address:[forward()+0x1f3; OM::Simulator::start(scnXml::Monitoring const&)+0x468; OM::Population::update1(OM::SimTime)+0xff; OM::Host::Human::update(bool)+0x2bc; OM::Clinical::ClinicalModel::update(OM::Host::Human&, double, bool)+0xe8; OM::Clinical::ClinicalEventScheduler::doClinicalUpdate(OM::Host::Human&, double)+0x6b8; OM::util::random::uniform_01()+0xc0]__Uniform__5, distribution:Uniform(lwo: tensor([0.]), high: tensor([1.])), value:tensor([0.2420]): log_prob:tensor(0.)) \n",
      "\n",
      "\n",
      " Address 20 : [forward()+0x1f3; OM::Simulator::start(scnXml::Monitoring const&)+0x468; OM::Population::update1(OM::SimTime)+0xff; OM::Host::Human::update(bool)+0x2bc; OM::Clinical::ClinicalModel::update(OM::Host::Human&, double, bool)+0xe8; OM::Clinical::ClinicalEventScheduler::doClinicalUpdate(OM::Host::Human&, double)+0xa1d; OM::util::random::uniform_01()+0xc0]__Uniform \n",
      " Value : Variable(name:None, control:True, replace:False, observable:False, observed:False, tagged:False, address:[forward()+0x1f3; OM::Simulator::start(scnXml::Monitoring const&)+0x468; OM::Population::update1(OM::SimTime)+0xff; OM::Host::Human::update(bool)+0x2bc; OM::Clinical::ClinicalModel::update(OM::Host::Human&, double, bool)+0xe8; OM::Clinical::ClinicalEventScheduler::doClinicalUpdate(OM::Host::Human&, double)+0xa1d; OM::util::random::uniform_01()+0xc0]__Uniform__20, distribution:Uniform(lwo: tensor([0.]), high: tensor([1.])), value:tensor([0.6129]): log_prob:tensor(0.)) \n",
      "\n",
      "\n",
      " Address 21 : [forward()+0x1f3; OM::Simulator::start(scnXml::Monitoring const&)+0x468; OM::Population::update1(OM::SimTime)+0xff; OM::Host::Human::update(bool)+0x2bc; OM::Clinical::ClinicalModel::update(OM::Host::Human&, double, bool)+0xe8; OM::Clinical::ClinicalEventScheduler::doClinicalUpdate(OM::Host::Human&, double)+0x1ac; OM::util::random::uniform_01()+0xc0]__Uniform \n",
      " Value : Variable(name:None, control:True, replace:False, observable:False, observed:False, tagged:False, address:[forward()+0x1f3; OM::Simulator::start(scnXml::Monitoring const&)+0x468; OM::Population::update1(OM::SimTime)+0xff; OM::Host::Human::update(bool)+0x2bc; OM::Clinical::ClinicalModel::update(OM::Host::Human&, double, bool)+0xe8; OM::Clinical::ClinicalEventScheduler::doClinicalUpdate(OM::Host::Human&, double)+0x1ac; OM::util::random::uniform_01()+0xc0]__Uniform__5, distribution:Uniform(lwo: tensor([0.]), high: tensor([1.])), value:tensor([0.0902]): log_prob:tensor(0.)) \n",
      "\n",
      "\n",
      " Address 22 : 26__forward__forward_after__?__Normal \n",
      " Value : Variable(name:n_infect, control:False, replace:False, observable:True, observed:True, tagged:False, address:26__forward__forward_after__?__Normal__1, distribution:Normal(mean:tensor([1., 0., 0., 0., 0., 1., 0., 1., 0., 0., 0., 0.]), stddev:tensor([0.0100, 0.0100, 0.0100, 0.0100, 0.0100, 0.0100, 0.0100, 0.0100, 0.0100,\n",
      "        0.0100, 0.0100, 0.0100])), value:tensor([ 1.0125e+00, -2.2938e-03,  4.4616e-03, -4.8050e-03,  1.0849e-02,\n",
      "         1.0048e+00, -5.9222e-03,  1.0046e+00, -4.0461e-04,  8.0784e-04,\n",
      "         1.0690e-02, -1.2517e-02]): log_prob:tensor(40.8663)) \n",
      "\n",
      "\n",
      "<bound method Empirical.save_metadata of <pyprob.distributions.empirical.Empirical object at 0x7f88abf15ac8>>\n"
     ]
    }
   ],
   "source": []
  },
  {
   "cell_type": "code",
   "execution_count": null,
   "metadata": {},
   "outputs": [],
   "source": []
  },
  {
   "cell_type": "code",
   "execution_count": 5,
   "metadata": {},
   "outputs": [
    {
     "data": {
      "text/plain": [
       "'/Users/bradley/Documents/Projects/OpenMalaria/code/notebooks'"
      ]
     },
     "execution_count": 5,
     "metadata": {},
     "output_type": "execute_result"
    }
   ],
   "source": []
  },
  {
   "cell_type": "code",
   "execution_count": null,
   "metadata": {},
   "outputs": [],
   "source": []
  }
 ],
 "metadata": {
  "kernelspec": {
   "display_name": "Python 3",
   "language": "python",
   "name": "python3"
  },
  "language_info": {
   "codemirror_mode": {
    "name": "ipython",
    "version": 3
   },
   "file_extension": ".py",
   "mimetype": "text/x-python",
   "name": "python",
   "nbconvert_exporter": "python",
   "pygments_lexer": "ipython3",
   "version": "3.6.7"
  }
 },
 "nbformat": 4,
 "nbformat_minor": 2
}
