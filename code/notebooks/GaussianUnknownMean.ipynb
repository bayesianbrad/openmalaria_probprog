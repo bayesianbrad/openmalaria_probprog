{
 "cells": [
  {
   "cell_type": "code",
   "execution_count": 1,
   "metadata": {},
   "outputs": [],
   "source": [
    "import pyprob\n",
    "from pyprob import Model\n",
    "from pyprob.distributions import Normal"
   ]
  },
  {
   "cell_type": "code",
   "execution_count": 26,
   "metadata": {},
   "outputs": [],
   "source": [
    "class GaussianUnknownMean(Model):\n",
    "    def __init__(self, prior_mean=2., prior_stddev=0.1, likelihood_stddev=0.2):\n",
    "        self.prior_mean = prior_mean\n",
    "        self.prior_stddev = prior_stddev\n",
    "        self.likelihood_stddev = likelihood_stddev\n",
    "        super().__init__(name='GaussianUnknownMean')\n",
    "        \n",
    "        \n",
    "    def forward(self):\n",
    "        prior = Normal(self.prior_mean, self.prior_stddev)\n",
    "        mu = pyprob.sample(prior)\n",
    "        pyprob.tag(value = mu*5, name= 'computation')\n",
    "        pyprob.sample(prior, name='mu2')\n",
    "        likelihood = Normal(mu, self.likelihood_stddev)\n",
    "        pyprob.observe(likelihood, name='obs')\n",
    "        return mu\n",
    "        "
   ]
  },
  {
   "cell_type": "code",
   "execution_count": 27,
   "metadata": {},
   "outputs": [],
   "source": [
    "model = GaussianUnknownMean()"
   ]
  },
  {
   "cell_type": "code",
   "execution_count": 29,
   "metadata": {},
   "outputs": [
    {
     "name": "stdout",
     "output_type": "stream",
     "text": [
      "Time spent  | Time remain.| Progress             | Trace   | Traces/sec\n",
      "0d:00:00:00 | 0d:00:00:00 | #################### | 500/500 | 814.44       \n",
      "Time spent  | Time remain.| Progress             | Trace   | Traces/sec\n",
      "0d:00:00:00 | 0d:00:00:00 | #################### | 500/500 | 1,533.57       \n"
     ]
    }
   ],
   "source": [
    "prior = model.prior_distribution(num_traces=500)\n",
    "prior2 = model.prior_traces(num_traces=500)"
   ]
  },
  {
   "cell_type": "code",
   "execution_count": 39,
   "metadata": {},
   "outputs": [
    {
     "data": {
      "text/plain": [
       "Variable(name:obs, control:False, replace:False, observable:True, observed:True, tagged:False, address:78__forward__?__Normal__1, distribution:Normal(mean:1.8215755224227905, stddev:0.20000000298023224), value:tensor(1.8298): log_prob:tensor(0.6897))"
      ]
     },
     "execution_count": 39,
     "metadata": {},
     "output_type": "execute_result"
    }
   ],
   "source": [
    "# prior.plot_histogram()\n",
    "prior2[0].named_variables['obs']\n"
   ]
  },
  {
   "cell_type": "code",
   "execution_count": 18,
   "metadata": {},
   "outputs": [
    {
     "name": "stdout",
     "output_type": "stream",
     "text": [
      "Time spent  | Time remain.| Progress             | Trace   | Traces/sec\n",
      "0d:00:00:00 | 0d:00:00:00 | #################### | 500/500 | 2,382.73       \n"
     ]
    }
   ],
   "source": [
    "posterior = model.posterior_distribution(num_traces=500, observe={'obs':3})"
   ]
  },
  {
   "cell_type": "code",
   "execution_count": 19,
   "metadata": {},
   "outputs": [
    {
     "data": {
      "image/png": "[encoded data removed]",
      "text/plain": [
       "<Figure size 720x360 with 1 Axes>"
      ]
     },
     "metadata": {
      "needs_background": "light"
     },
     "output_type": "display_data"
    }
   ],
   "source": [
    "posterior.plot_histogram()"
   ]
  },
  {
   "cell_type": "code",
   "execution_count": null,
   "metadata": {},
   "outputs": [],
   "source": []
  }
 ],
 "metadata": {
  "kernelspec": {
   "display_name": "Python 3",
   "language": "python",
   "name": "python3"
  },
  "language_info": {
   "codemirror_mode": {
    "name": "ipython",
    "version": 3
   },
   "file_extension": ".py",
   "mimetype": "text/x-python",
   "name": "python",
   "nbconvert_exporter": "python",
   "pygments_lexer": "ipython3",
   "version": "3.6.8"
  }
 },
 "nbformat": 4,
 "nbformat_minor": 2
}
