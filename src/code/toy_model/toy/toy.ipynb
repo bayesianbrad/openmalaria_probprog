{
 "cells": [
  {
   "cell_type": "code",
   "execution_count": 1,
   "metadata": {
    "pycharm": {
     "name": "#%%\n"
    }
   },
   "outputs": [
    {
     "name": "stdout",
     "output_type": "stream",
     "text": [
      "\u001b[1m\u001b[31mWarning: Empirical distributions on disk may perform slow because GNU DBM is not available. Please install and configure gdbm library for Python for better speed.\u001b[0m\n"
     ]
    }
   ],
   "source": [
    "import pyprob\n",
    "from pyprob import Model\n",
    "from pyprob.distributions import Poisson, Categorical, Normal, TruncatedNormal, Beta, Uniform\n",
    "import torch as th\n",
    "import torch\n",
    "\n",
    "import matplotlib.pyplot as plt\n",
    "%matplotlib inline\n"
   ]
  },
  {
   "cell_type": "code",
   "execution_count": 4,
   "metadata": {
    "pycharm": {
     "name": "#%%\n"
    }
   },
   "outputs": [],
   "source": [
    "class ToyMalaria(Model):\n",
    "    def __init__(self, pop_size=1050, likelihood_stddev=0.1, EIR=None):\n",
    "        super().__init__(name='Toy Malaria')\n",
    "        self.pop_size = pop_size\n",
    "        self.likelihood_stddev = likelihood_stddev\n",
    "        self.t_max = 70\n",
    "        self.days_per_step = 1\n",
    "        #self.EIR = th.FloatTensor(self.t_max * self.days_per_step).zero_() + 67.0/365.0\n",
    "        self.EIR = th.FloatTensor(self.t_max * self.days_per_step).zero_() + 5.5 / 365.0 # Matsari, intervention phase\n",
    "        self.EIR_background = th.FloatTensor([67.0/365.0])\n",
    "        self.A_max = 1.63\n",
    "        self.prevalence_bins_upper = torch.FloatTensor([0.246746962983009,\n",
    "                                             0.727755459545533,\n",
    "                                             1.44479521753634,\n",
    "                                             2.88435310594495,\n",
    "                                             4.81735572357366,\n",
    "                                             7.82460584536638,\n",
    "                                             12.087165127225,\n",
    "                                             16.8889599400757,\n",
    "                                             24.2654245103456,\n",
    "                                             33.7166980261767,\n",
    "                                             48.1735572357366,\n",
    "                                             67.3111742713562]) * 365\n",
    "        self._eval = False\n",
    "\n",
    "    def forward(self, _eval=False):\n",
    "        '''\n",
    "        Parameters:\n",
    "            i - Individual\n",
    "            t - Individual at time t\n",
    "            a - age group of individual at time t\n",
    "            A(a(i,t)) - Mean body suface area\n",
    "\n",
    "        Return:\n",
    "            E_a(i,t) - The estimate at each time, for an individual i of\n",
    "            number of infected bites recieved, adjusted for age.\n",
    "\n",
    "        Surivival function\n",
    "            S_p(i,t) - Probability that the progeny of each incoculation survive\n",
    "            to give rise to a patent blood stage infection\n",
    "\n",
    "        Force of infection\n",
    "            lambda(i,t) = S_p(i,t) * E_a(i.t)\n",
    "\n",
    "        Pre-erythocytic challenge\n",
    "            X_p = \\int_{t-a)^{t} E_a(i,t) d\\tau\n",
    "\n",
    "        Latent variables:\n",
    "            h\n",
    "            gamma_p\n",
    "            E_crit\n",
    "            S_inf\n",
    "            Xp_crit\n",
    "\n",
    "\n",
    "\n",
    "\n",
    "        '''\n",
    "\n",
    "        # Generate initial population age distribution\n",
    "        # PROPER POPULATION INITIALISATION\n",
    "        pop_infected = torch.LongTensor(self.pop_size).zero_()\n",
    "        pop_age_days = torch.zeros(self.pop_size)\n",
    "        pop_age_days = pyprob.sample(Uniform(low=torch.FloatTensor([0,1,5,9,19,29,44]*int(self.pop_size//7.0))*365.0,\n",
    "                                             high=torch.FloatTensor([1,4,8,18,28,43,67]*int(self.pop_size//7.0))*365.0))\n",
    "        #pop_age_days = th.randint(self.prevalence_bins_upper.shape[0], pop_age_days.shape) # number of age bands\n",
    "        #pop_age_days[pop_age_days==0] =\n",
    "        # for i in range(self.pop_size):\n",
    "        #     age = pyprob.sample(Categorical([3.5, 10.2, 13.5,14.0, 16.19, 27.7, 14.9]))\n",
    "        #     # age ranges [<1 , 1-4, 5-8, 9-18, 19-28,29-43,>=44]\n",
    "        #     if age.item() == 0:\n",
    "        #         age = pyprob.sample(Uniform(low=0,high=1))*365.0\n",
    "        #         pop_age_days[i] = age.int()\n",
    "        #     if age.item() == 1:\n",
    "        #         age = pyprob.sample(Uniform(low=1,high=4))*365.0\n",
    "        #         pop_age_days[i] = age.int()\n",
    "        #     if age.item() == 2:\n",
    "        #         age = pyprob.sample(Uniform(low=5,high=8))*365.0\n",
    "        #         pop_age_days[i] = age.int()\n",
    "        #     if age.item() == 3:\n",
    "        #         age = pyprob.sample(Uniform(low=9,high=18))*365.0\n",
    "        #         pop_age_days[i] = age.int()\n",
    "        #     if age.item() == 4:\n",
    "        #         age = pyprob.sample(Uniform(low=19,high=28))*365.0\n",
    "        #         pop_age_days[i] = age.int()\n",
    "        #     if age.item() == 5:\n",
    "        #         age = pyprob.sample(Uniform(low=29,high=43))*365.0\n",
    "        #         pop_age_days[i] = age.int()\n",
    "        #     if age.item() == 6:\n",
    "        #         age = pyprob.sample(Uniform(low=44,high=67))*365.0\n",
    "        #         pop_age_days[i] = age.int()\n",
    "\n",
    "        if self._eval == False:\n",
    "            S_inf = pyprob.sample(TruncatedNormal(mean_non_truncated=0.01, stddev_non_truncated=0.05, low=0, high=1,\n",
    "                                                  clamp_mean_between_low_high=True), name='S_inf')\n",
    "            E_crit = pyprob.sample(TruncatedNormal(mean_non_truncated=0.040, stddev_non_truncated=0.035, low=0, high=1000,\n",
    "                                                   clamp_mean_between_low_high=True), name='E_crit')\n",
    "            S_imm = pyprob.sample(TruncatedNormal(mean_non_truncated=0.14, stddev_non_truncated=0.02, low=0, high=1,\n",
    "                                                  clamp_mean_between_low_high=True), name='S_imm')\n",
    "            X_p_crit = pyprob.sample(Normal(loc=1000, scale=10), name='Xpcrit')\n",
    "            gamma_p = pyprob.sample(TruncatedNormal(mean_non_truncated=3.5, stddev_non_truncated=3, low=0, high=1000,\n",
    "                                                    clamp_mean_between_low_high=True), name='gamma_p')\n",
    "        else:\n",
    "            S_inf = self._eval[\"S_inf\"]\n",
    "            E_crit = self._eval[\"E_crit\"]\n",
    "            S_imm = self._eval[\"S_imm\"]\n",
    "            X_p_crit = self._eval[\"X_p_crit\"]\n",
    "            gamma_p = self._eval[\"gamma_p\"]\n",
    "\n",
    "        E_a = None  # equiv. to E_a\n",
    "        E_max = self.EIR\n",
    "\n",
    "        # Initialize X_p\n",
    "        X_p = torch.FloatTensor(self.pop_size).zero_()  # equiv. to X_p, Equ. 6\n",
    "        #max_age = pop_age_days.max().item()\n",
    "        #for t in range(int(max_age)):\n",
    "        #    X_p[pop_age_days >= t] += ( E_max[int((-max_age + t)%(self.t_max*self.days_per_step))] / self.A_max ) * self.get_mean_body_surface_area(pop_age_days[pop_age_days >= t]*0+t)\n",
    "        X_p = (pop_age_days * self.EIR_background).float()\n",
    "\n",
    "        # now evolve over time\n",
    "        for t in range(self.t_max):\n",
    "            # update age-adjusted EIR\n",
    "            E_a = E_max[t] / self.A_max * self.get_mean_body_surface_area(\n",
    "                pop_age_days)  # self.get_EIR_age_adjusted(pop_age)\n",
    "            X_p += E_a  # update X_p\n",
    "\n",
    "            # construct S_1\n",
    "            S_1 = S_inf + (1 - S_inf) / (1 + E_a / E_crit)\n",
    "\n",
    "            # construct S_2\n",
    "\n",
    "            S_2 = S_imm + (1 - S_imm) / (1 + (X_p / X_p_crit) ** gamma_p)\n",
    "\n",
    "            # Probability of survival function\n",
    "            S_p = S_1 * S_2\n",
    "\n",
    "            # construct lambda\n",
    "            _lambda = S_p * E_a\n",
    "\n",
    "            # increase population age\n",
    "            pop_age_days += 1\n",
    "\n",
    "            # Number of infections generated in unit time per individual sampled from poisson\n",
    "\n",
    "            h = pyprob.sample(Poisson(_lambda), name='nInfections')\n",
    "            pop_infected[h > 0] = 1\n",
    "            #print(\"# infected {} at time t {}:\".format(pop_infected[pop_infected==1].sum(), t))\n",
    "\n",
    "        ##TODO binning needs completing\n",
    "\n",
    "        #pop_infected\n",
    "        prevalence = th.FloatTensor(self.prevalence_bins_upper.shape[0]).zero_()\n",
    "        age_band  = th.FloatTensor(self.prevalence_bins_upper.shape[0]).zero_()\n",
    "        for i in range(self.prevalence_bins_upper.shape[0]):\n",
    "            prev_band = (pop_age_days > (0 if i==0 else self.prevalence_bins_upper[i-1])) & (pop_age_days < self.prevalence_bins_upper[i])\n",
    "            if pop_infected[prev_band].sum() != 0:\n",
    "                prevalence[i] = pop_infected[prev_band & (pop_infected == 1)].float().sum() / prev_band.sum()\n",
    "                age_band[i] = prev_band.sum()\n",
    "\n",
    "        pyprob.tag(value=prevalence, name='prevalance')\n",
    "\n",
    "        return prevalence  # The thing we want to do inference over\n",
    "\n",
    "    def get_observation(self, age):\n",
    "        boundaries = torch.FloatTensor([0.246746962983009,\n",
    "                                        0.727755459545533,\n",
    "                                        1.44479521753634,\n",
    "                                        2.88435310594495,\n",
    "                                        4.81735572357366,\n",
    "                                        7.82460584536638,\n",
    "                                        12.087165127225,\n",
    "                                        16.8889599400757,\n",
    "                                        24.2654245103456,\n",
    "                                        33.7166980261767,\n",
    "                                        48.1735572357366,\n",
    "                                        67.3111742713562]) * 365.0\n",
    "        prevalance = torch.FloatTensor([0.001156069364162,\n",
    "                                        0.018208092485549,\n",
    "                                        0.050289017341041,\n",
    "                                        0.135260115606936,\n",
    "                                        0.038150289017341,\n",
    "                                        0.165606936416185,\n",
    "                                        0.172254335260116,\n",
    "                                        0.053757225433526,\n",
    "                                        0.038439306358382,\n",
    "                                        0.032947976878613,\n",
    "                                        0.039595375722543,\n",
    "                                        0.047109826589595])\n",
    "\n",
    "        if age <= boundaries[0].item():\n",
    "            return prevalance[0].item()\n",
    "        if age <= boundaries[1].item():\n",
    "            return prevalance[1].item()\n",
    "        if age <= boundaries[2].item():\n",
    "            return prevalance[2].item()\n",
    "        if age <= boundaries[3].item():\n",
    "            return prevalance[3].item()\n",
    "        if age <= boundaries[4].item():\n",
    "            return prevalance[4].item()\n",
    "        if age <= boundaries[5].item():\n",
    "            return prevalance[5].item()\n",
    "        if age <= boundaries[6].item():\n",
    "            return prevalance[6].item()\n",
    "        if age <= boundaries[7].item():\n",
    "            return prevalance[7].item()\n",
    "        if age <= boundaries[8].item():\n",
    "            return prevalance[8].item()\n",
    "        if age <= boundaries[9].item():\n",
    "            return prevalance[9].item()\n",
    "        if age <= boundaries[10].item():\n",
    "            return prevalance[10].item()\n",
    "        if age <= boundaries[11].item():\n",
    "            return prevalance[11].item()\n",
    "        if age <= boundaries[12].item():\n",
    "            return prevalance[12].item()\n",
    "\n",
    "\n",
    "    def get_mean_body_surface_area(self, pop_age_days):\n",
    "        \"\"\"\n",
    "        We use a crude estimate based on a quintic regression\n",
    "        based on a fit on data points:\n",
    "        1. 3kg, 50cm=0.20m^2 at birth (age=0)\n",
    "        2. 24kg, 127cm=0.92m^2 at (age=10years)\n",
    "        3. 60kg, 160cm=1.63m^2 at (age=20years, limit)\n",
    "        These data points are roughly based on Nigerian population,\n",
    "        \"Relative Height and Weight among Children and Adolescents of Rural Southwestern Nigeria\", Ayoola et al, 2009\n",
    "        \"\"\"\n",
    "        # adjust EIR according to population age\n",
    "        pop_age_days_capped = pop_age_days.clone().float()\n",
    "        pop_age_days_capped[pop_age_days_capped > 365 * 20] = 365 * 20\n",
    "        a = 0.2\n",
    "        b = -5.670374E-9\n",
    "        c = 5.670316E-8\n",
    "        d = 6.500411E-12\n",
    "        e = -2.509808E-15\n",
    "        f = 1.450615E-19\n",
    "        A = a + \\\n",
    "            b * pop_age_days_capped + \\\n",
    "            c * (pop_age_days_capped ** 2) + \\\n",
    "            d * (pop_age_days_capped ** 3) + \\\n",
    "            e * (pop_age_days_capped ** 4) + \\\n",
    "            f * (pop_age_days_capped ** 5)\n",
    "        return A\n"
   ]
  },
  {
   "cell_type": "code",
   "execution_count": 5,
   "metadata": {
    "pycharm": {
     "name": "#%%\n"
    }
   },
   "outputs": [
    {
     "name": "stdout",
     "output_type": "stream",
     "text": [
      "Time spent  | Time remain.| Progress             | Trace     | Traces/sec\n",
      "0d:00:00:41 | 0d:00:00:00 | #################### | 1000/1000 | 24.16       \n",
      "tensor([0.1667, 0.0667, 0.1047, 0.1212, 0.1316, 0.2932, 0.4930, 0.3684, 0.1622,\n",
      "        0.1321, 0.0859, 0.1440])\n"
     ]
    },
    {
     "data": {
      "text/plain": [
       "[<matplotlib.lines.Line2D at 0x7f6b266807f0>]"
      ]
     },
     "execution_count": 5,
     "metadata": {},
     "output_type": "execute_result"
    },
    {
     "data": {
      "image/png": "[encoded data removed]",
      "text/plain": [
       "<Figure size 432x288 with 1 Axes>"
      ]
     },
     "metadata": {
      "needs_background": "light"
     },
     "output_type": "display_data"
    }
   ],
   "source": [
    "model = ToyMalaria()\n",
    "prior_traces = model.prior_traces(num_traces=1000)\n",
    "prior_population = prior_traces.map(lambda trace: trace.named_variables['prevalance'].value)\n",
    "# prior_prevalence = prior_population.map(get_prevalence)\n",
    "ground_truth_trace = next(model._trace_generator())\n",
    "ground_truth_prevalence = ground_truth_trace.named_variables['prevalance'].value\n",
    "print(ground_truth_prevalence)\n",
    "plt.plot(ground_truth_prevalence.numpy())"
   ]
  },
  {
   "cell_type": "code",
   "execution_count": null,
   "metadata": {
    "pycharm": {
     "name": "#%%\n"
    }
   },
   "outputs": [
    {
     "name": "stdout",
     "output_type": "stream",
     "text": [
      "Time spent  | Time remain.| Progress             | Trace     | Accepted|Smp reuse| Traces/sec\n",
      "Warning: trying to sample from the tail of a truncated normal distribution, which can take a long time. A more efficient implementation is pending.\n"
     ]
    }
   ],
   "source": [
    "is_posterior_traces = model.posterior_traces(observe={'prevalance': ground_truth_prevalence}, num_traces=1000, inference_engine=pyprob.InferenceEngine.RANDOM_WALK_METROPOLIS_HASTINGS)\n",
    "\n",
    "is_posterior_sinf = is_posterior_traces.map(lambda trace: trace.named_variables['S_inf'].value)\n",
    "is_posterior_Ecrit = is_posterior_traces.map(lambda trace: trace.named_variables['E_crit'].value)\n",
    "is_posterior_simm = is_posterior_traces.map(lambda trace: trace.named_variables['S_imm'].value)\n",
    "is_posterior_X_p_crit = is_posterior_traces.map(lambda trace: trace.named_variables['Xpcrit'].value)\n",
    "is_posterior_gamma_p = is_posterior_traces.map(lambda trace: trace.named_variables['gamma_p'].value)\n",
    "plt.plot(ground_truth_prevalence.numpy(),'r-')\n",
    "\n",
    "print('S_inf = {}'.format(is_posterior_sinf.mean.numpy()))\n",
    "print('E_crit = {}'.format(is_posterior_Ecrit.mean.numpy()))\n",
    "print('S_imm = {}'.format(is_posterior_simm.mean.numpy()))\n",
    "print('X_p_crit = {}'.format(is_posterior_X_p_crit.mean.numpy()))\n",
    "print('gamma_p = {}'.format(is_posterior_gamma_p.mean.numpy()))\n"
   ]
  },
  {
   "cell_type": "code",
   "execution_count": null,
   "metadata": {},
   "outputs": [],
   "source": [
    "x = model.forward(_eval={\"S_inf\":is_posterior_sinf.mean,\n",
    "                         \"E_crit\":is_posterior_Ecrit.mean,\n",
    "                         \"S_imm\":is_posterior_simm.mean,\n",
    "                         \"X_p_crit\":is_posterior_X_p_crit.mean,\n",
    "                         \"gamma_p\":is_posterior_gamma_p.mean})\n",
    "plt.plot(x.numpy(),'b')"
   ]
  },
  {
   "cell_type": "code",
   "execution_count": null,
   "metadata": {},
   "outputs": [],
   "source": [
    "plt.plot(ground_truth_prevalence.numpy()+0.001,'r-')\n",
    "plt.plot(x.numpy(),'b')"
   ]
  },
  {
   "cell_type": "code",
   "execution_count": null,
   "metadata": {},
   "outputs": [],
   "source": [
    "import pyprob.diagnostics\n",
    "\n",
    "diagnostics.gr"
   ]
  },
  {
   "cell_type": "code",
   "execution_count": null,
   "metadata": {},
   "outputs": [],
   "source": []
  }
 ],
 "metadata": {
  "kernelspec": {
   "display_name": "PyCharm (projects)",
   "language": "python",
   "name": "pycharm-46c535b1"
  },
  "language_info": {
   "codemirror_mode": {
    "name": "ipython",
    "version": 3
   },
   "file_extension": ".py",
   "mimetype": "text/x-python",
   "name": "python",
   "nbconvert_exporter": "python",
   "pygments_lexer": "ipython3",
   "version": "3.6.8"
  },
  "pycharm": {
   "stem_cell": {
    "cell_type": "raw",
    "metadata": {
     "collapsed": false
    },
    "source": []
   }
  }
 },
 "nbformat": 4,
 "nbformat_minor": 1
}
